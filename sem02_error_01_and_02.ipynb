{
  "nbformat": 4,
  "nbformat_minor": 0,
  "metadata": {
    "colab": {
      "name": "Untitled25.ipynb",
      "provenance": []
    },
    "kernelspec": {
      "name": "python3",
      "display_name": "Python 3"
    },
    "language_info": {
      "name": "python"
    }
  },
  "cells": [
    {
      "cell_type": "markdown",
      "source": [
        "# Простые комбинаторные критерий и ошибки 1/2 рода "
      ],
      "metadata": {
        "id": "4LFX5ug6uNEQ"
      }
    },
    {
      "cell_type": "markdown",
      "source": [
        "## Критерий Фишера\n",
        "\n",
        "Лаба нанимает людей. Есть ли дискриманация на рыке? \n",
        "\n",
        "|       |муж.    |жен.     |сумма |\n",
        "|-------|--------|---------|------|\n",
        "|наняли | $7$    | $1$     | $8$  | \n",
        "|нет    | $1$    | $11$    | $12$ |\n",
        "|сумма  | $8$    | $12$    | $20$ |"
      ],
      "metadata": {
        "id": "U8y6gnifwX-r"
      }
    },
    {
      "cell_type": "markdown",
      "source": [
        "$H_0:$ дискриминации на рынке нет \n",
        "\n",
        "$H_1:$ дискриминация на рынке есть"
      ],
      "metadata": {
        "id": "N0vLUfs2xNYB"
      }
    },
    {
      "cell_type": "markdown",
      "source": [
        "__Какова вероятность того, что мы получим именно такую выборку, если дискриминации нет?__\n",
        "\n"
      ],
      "metadata": {
        "id": "2b6p4CPhyGi-"
      }
    },
    {
      "cell_type": "markdown",
      "source": [
        "$$\n",
        "\\mathbb{P}(W=1, M=7) = \\frac{C_{12}^1 \\cdot C_8^7 }{C_{20}^8}\n",
        "$$"
      ],
      "metadata": {
        "id": "B3uz6UY-yMgF"
      }
    },
    {
      "cell_type": "code",
      "source": [
        "from math import factorial \n",
        "\n",
        "def bin_coef(k,n):\n",
        "    return factorial(n)/(factorial(k) * factorial(n-k))\n",
        "\n",
        "def prob_gipGeom(W, M, Wn=12, Mn=8):\n",
        "    return bin_coef(W, Wn) * bin_coef(M, Mn)/bin_coef(W + M, Wn + Mn)\n",
        "\n",
        "prob_gipGeom(1, 7)"
      ],
      "metadata": {
        "colab": {
          "base_uri": "https://localhost:8080/"
        },
        "id": "PDUG7XQ1y4eh",
        "outputId": "5e9ee15a-c82e-4e63-cbb7-6aa2215fa3c6"
      },
      "execution_count": 1,
      "outputs": [
        {
          "output_type": "execute_result",
          "data": {
            "text/plain": [
              "0.0007620862110026197"
            ]
          },
          "metadata": {},
          "execution_count": 1
        }
      ]
    },
    {
      "cell_type": "markdown",
      "source": [
        "__P-значение__ - вероятность того, что произошел наш кейс либо еще более плохой при верности нулевой гипотезы. "
      ],
      "metadata": {
        "id": "WvWjBzUKzxAk"
      }
    },
    {
      "cell_type": "code",
      "source": [
        "probability = prob_gipGeom(0, 7) + prob_gipGeom(1, 7)\n",
        "probability"
      ],
      "metadata": {
        "colab": {
          "base_uri": "https://localhost:8080/"
        },
        "id": "jXDlSIzKzkJX",
        "outputId": "05aee691-c467-4937-dd3d-cee2ee5559a5"
      },
      "execution_count": 2,
      "outputs": [
        {
          "output_type": "execute_result",
          "data": {
            "text/plain": [
              "0.0008652853854092244"
            ]
          },
          "metadata": {},
          "execution_count": 2
        }
      ]
    },
    {
      "cell_type": "markdown",
      "source": [
        "Нам надо выбрать какой-то порог, с которым мы будем сранивать P-значение. Если оно оказывается меньше этого порога, то мы не верим в нулевую гипотезу. Этот порог для сравнения называется $\\alpha$ __уровнем значимости.__"
      ],
      "metadata": {
        "id": "TPbsTYNH0X5w"
      }
    },
    {
      "cell_type": "code",
      "source": [
        "x = list(range(9))\n",
        "p = [prob_gipGeom(k, 8 - k) for k in x]\n",
        "p"
      ],
      "metadata": {
        "colab": {
          "base_uri": "https://localhost:8080/"
        },
        "id": "mBmM4bAUzkRT",
        "outputId": "daf0e204-c316-4a0e-f57e-6df98a5d90ef"
      },
      "execution_count": 18,
      "outputs": [
        {
          "output_type": "execute_result",
          "data": {
            "text/plain": [
              "[7.938398031277288e-06,\n",
              " 0.0007620862110026197,\n",
              " 0.01467015956180043,\n",
              " 0.09780106374533619,\n",
              " 0.27506549178375805,\n",
              " 0.35208382948321026,\n",
              " 0.205382233865206,\n",
              " 0.050297689926172895,\n",
              " 0.003929507025482257]"
            ]
          },
          "metadata": {},
          "execution_count": 18
        }
      ]
    },
    {
      "cell_type": "code",
      "source": [
        "sum(p)"
      ],
      "metadata": {
        "colab": {
          "base_uri": "https://localhost:8080/"
        },
        "id": "w9ruSWT51G7S",
        "outputId": "2cdfe465-7161-468c-efa4-db781654cadd"
      },
      "execution_count": 19,
      "outputs": [
        {
          "output_type": "execute_result",
          "data": {
            "text/plain": [
              "0.9999999999999999"
            ]
          },
          "metadata": {},
          "execution_count": 19
        }
      ]
    },
    {
      "cell_type": "code",
      "source": [
        "import matplotlib.pyplot as plt\n",
        "\n",
        "for i,pp in enumerate(p):\n",
        "    plt.axvline(i, 0, 2.5*pp)\n",
        "\n",
        "plt.xlabel('сколько женщин нанял')\n",
        "plt.scatter(x[:2], p[:2], color='pink');\n",
        "plt.scatter(x[2:], p[2:]);"
      ],
      "metadata": {
        "colab": {
          "base_uri": "https://localhost:8080/",
          "height": 279
        },
        "id": "EKIKZPB91XVh",
        "outputId": "64d572ce-d49c-40f1-b74a-7406e339d22d"
      },
      "execution_count": 25,
      "outputs": [
        {
          "output_type": "display_data",
          "data": {
            "text/plain": [
              "<Figure size 432x288 with 1 Axes>"
            ],
            "image/png": "[encoded data removed]"
          },
          "metadata": {
            "needs_background": "light"
          }
        }
      ]
    },
    {
      "cell_type": "markdown",
      "source": [
        "$T$ -- сколько девушек я нанял на работу (статистика для принятия решения) \n",
        "\n",
        "- Мы проводим опыт и находим наблюдаемое значение статистики \n",
        "- Мы сравниваем её с критическим\n",
        "- Принимаем решение"
      ],
      "metadata": {
        "id": "sDGlFblF2VPR"
      }
    },
    {
      "cell_type": "markdown",
      "source": [
        "## Критерий знаков\n"
      ],
      "metadata": {
        "id": "6Y9EmRln4VbW"
      }
    },
    {
      "cell_type": "markdown",
      "source": [
        "Мэр говорит Варламову: \"У нас в городе больше половины квартир дешевле одного миллиона рублей!\"\n",
        "\n",
        "Врёт ли мэр? "
      ],
      "metadata": {
        "id": "xacLVWi24Vwb"
      }
    },
    {
      "cell_type": "markdown",
      "source": [
        "$H_0:$ мэр честный человек и не врёт\n",
        "\n",
        "$H_1:$ мэр лжец и сволочь"
      ],
      "metadata": {
        "id": "CTQt3akn43KV"
      }
    },
    {
      "cell_type": "markdown",
      "source": [
        "- С помощью какой статистики мы могли бы проверить эту гипотезу? \n",
        "- Как в рамках выбронной модели формализовать проверку? \n",
        "- Как собрать выборку?\n",
        "- Чему равно pvalue, критическое значение и тп? "
      ],
      "metadata": {
        "id": "IjhtvFbX4_Oj"
      }
    },
    {
      "cell_type": "markdown",
      "source": [
        "**Идеи:** \n",
        "\n",
        "- Надо смотреть на медианную цену! -- бутсрэп\n",
        "\n",
        "$H_0: med < 1$\n",
        "\n",
        "$H_1: med \\ge 1$\n",
        "\n",
        "- Надо смотортеь на выборочное среднее цен на квартиры! -- ЦПТ \n",
        "\n",
        "$H_0: \\mu < 1$\n",
        "\n",
        "$H_1: \\mu \\ge 1$\n",
        "\n",
        "\n",
        "- Посчитать сколько цен оказались выше миллиона, сколько ниже миллиона -- Биномиальное распределение\n",
        "\n",
        "$H_0: \\mathbb{P}(X < 1) = 0.5$\n",
        "\n",
        "$H_1:\\mathbb{P}(X < 1) < 0.5$\n"
      ],
      "metadata": {
        "id": "m8ZSefTB5OSR"
      }
    },
    {
      "cell_type": "markdown",
      "source": [
        "$10$ квартир, одна из них оказалась дороже, 9 дешевле. "
      ],
      "metadata": {
        "id": "5WkHA5S653c9"
      }
    },
    {
      "cell_type": "markdown",
      "source": [
        "В начале эксперимента мы установили уровень значимости в $\\alpha = 0.01$"
      ],
      "metadata": {
        "id": "PRpLe-mt7Ggh"
      }
    },
    {
      "cell_type": "markdown",
      "source": [
        "При верности нулевой гипотезы $T \\sim Bin(10, 0.5)$ -- число квартир дешевле 1 миллиона\n",
        "\n",
        "$\\mathbb{P}(T = k) = C_n^k \\cdot p^k \\cdot (1-p)^{n-k}$\n",
        "\n",
        "$T_{obs}$ = 9\n",
        "\n",
        "$probability = \\mathbb{P}(T \\le T_{obs} \\mid H_0)$\n",
        "\n",
        "$T_{cr}: \\mathbb{P}(T \\le T_{cr} \\mid H_0) = \\alpha$\n",
        "\n",
        "Выводы - ? "
      ],
      "metadata": {
        "id": "Dy8MPZ9Y5OZq"
      }
    },
    {
      "cell_type": "code",
      "source": [
        "def bin_prob(k, n=10, p=0.5):\n",
        "    return bin_coef(k,n) * p**k * (1 - p)**(n-k)\n",
        "\n",
        "bin_prob(9)"
      ],
      "metadata": {
        "colab": {
          "base_uri": "https://localhost:8080/"
        },
        "id": "vpRWR4SWuVTg",
        "outputId": "1f7f20be-a11b-4e1e-816b-be21eabe0069"
      },
      "execution_count": 27,
      "outputs": [
        {
          "output_type": "execute_result",
          "data": {
            "text/plain": [
              "0.009765625"
            ]
          },
          "metadata": {},
          "execution_count": 27
        }
      ]
    },
    {
      "cell_type": "code",
      "source": [
        "probability = sum([bin_prob(item) for item in range(10)])\n",
        "probability"
      ],
      "metadata": {
        "colab": {
          "base_uri": "https://localhost:8080/"
        },
        "id": "f9K_Ki0b-MmK",
        "outputId": "3970cebb-03ad-4b4d-b125-476353719a82"
      },
      "execution_count": 30,
      "outputs": [
        {
          "output_type": "execute_result",
          "data": {
            "text/plain": [
              "0.9990234375"
            ]
          },
          "metadata": {},
          "execution_count": 30
        }
      ]
    },
    {
      "cell_type": "code",
      "source": [
        "for k in range(1, 12):\n",
        "    a = sum([bin_prob(item) for item in range(k)])\n",
        "    print(k - 1, a,  a > 0.01)"
      ],
      "metadata": {
        "colab": {
          "base_uri": "https://localhost:8080/"
        },
        "id": "OkERzL_3-srA",
        "outputId": "4b20d9dd-906e-4361-d259-bfbb3c0947e9"
      },
      "execution_count": 35,
      "outputs": [
        {
          "output_type": "stream",
          "name": "stdout",
          "text": [
            "0 0.0009765625 False\n",
            "1 0.0107421875 True\n",
            "2 0.0546875 True\n",
            "3 0.171875 True\n",
            "4 0.376953125 True\n",
            "5 0.623046875 True\n",
            "6 0.828125 True\n",
            "7 0.9453125 True\n",
            "8 0.9892578125 True\n",
            "9 0.9990234375 True\n",
            "10 1.0 True\n"
          ]
        }
      ]
    },
    {
      "cell_type": "markdown",
      "source": [
        "$T_{cr}$ будет между 0 и 1. Давайте просто возьмём $0.5$. С ним формально можно сравниться. Так-то понятное дело, что случайная величина дискретная. \n",
        "\n",
        "Можно сказать, что $T_{cr} = 1$ и отвергать нулевую гипотезу, если $T_{obs} <  T_{cr}$"
      ],
      "metadata": {
        "id": "hUdY6sui_YPm"
      }
    },
    {
      "cell_type": "markdown",
      "source": [
        "## Ошибка второго рода\n"
      ],
      "metadata": {
        "id": "EMpMNaxAAgfE"
      }
    },
    {
      "cell_type": "markdown",
      "source": [
        "__Упражнение 1__ \n",
        "\n",
        "Николай Коперник и у него есть бутерброды. \n",
        "\n",
        "$$\n",
        "X_1, \\ldots, X_n \\sim Bern(p)\n",
        "$$\n",
        "\n",
        "Правда ли, что бутерброд всегда падает маслом вниз? Если в испытании $i$ бутерброд упал маслом вниз, я записываю $X_i = 1$.\n",
        "\n",
        "$$\n",
        "H_0: p = 1 \n",
        "$$\n",
        "\n",
        "$$\n",
        "H_1: p < 1\n",
        "$$\n",
        "\n",
        "\n",
        "\n"
      ],
      "metadata": {
        "id": "VpEH_IRqAkSw"
      }
    },
    {
      "cell_type": "markdown",
      "source": [
        "__Критерий:__\n",
        "\n",
        "Отвергаю гипотезу $H_0$, если $\\sum_{i=1}^n X_i <n$"
      ],
      "metadata": {
        "id": "zO3YaOAtBSbv"
      }
    },
    {
      "cell_type": "markdown",
      "source": [
        "- $T_{obs} = S$\n",
        "- $T_{cr} = n$"
      ],
      "metadata": {
        "id": "WPuppAQ7BhC5"
      }
    },
    {
      "cell_type": "markdown",
      "source": [
        "$$\n",
        "\\alpha = \\mathbb{P}(H_1 \\mid H_0) = \\mathbb{P} \\left( \\sum_{i=1}^n X_i < n \\mid p = 1 \\right) = \\mathbb{P} \\left( \\text{Хотябы один ноль} \\mid p = 1 \\right) = 0\n",
        "$$"
      ],
      "metadata": {
        "id": "0EGYE_jGBx2W"
      }
    },
    {
      "cell_type": "markdown",
      "source": [
        "$$\n",
        "\\beta = \\mathbb{P}(H_0 \\mid H_1) = \\mathbb{P}(H_0 \\mid p < 1) = \\mathbb{P} \\left( \\sum_{i=1}^n X_i = n \\mid p < 1 \\right) =p^n\n",
        "$$"
      ],
      "metadata": {
        "id": "2r7AhFIUB1Ey"
      }
    },
    {
      "cell_type": "markdown",
      "source": [
        "__Мощность критерия__ = $1 - \\beta$"
      ],
      "metadata": {
        "id": "YNa8I1ZiB1HJ"
      }
    },
    {
      "cell_type": "markdown",
      "source": [
        "__Состоятельность критерия:__ $\\beta \\to 0$ при $n \\to \\infty$\n",
        "\n",
        "\n"
      ],
      "metadata": {
        "id": "JneGOA57C08V"
      }
    },
    {
      "cell_type": "markdown",
      "source": [
        "__Упражнение 2__\n",
        "\n",
        "Мы пронаблюдали наблюдение $X_1$. У нас есть гипотеза, что \n",
        "\n",
        "$H_0: X \\sim U[0; 100]$ \n",
        "\n",
        "$H_1: X \\sim U[50; 150]$\n",
        "\n",
        "Критерий:  \n",
        "\n",
        "- Если $X_1 < c,$ тогда выбираем $H_0.$ "
      ],
      "metadata": {
        "id": "9287iCwkDI1c"
      }
    },
    {
      "cell_type": "markdown",
      "source": [
        "$\\alpha(c), \\beta(c)$ - ?"
      ],
      "metadata": {
        "id": "emjKZsgSDwQD"
      }
    },
    {
      "cell_type": "markdown",
      "source": [
        "$$\n",
        "\\alpha = \\mathbb{P}(H_1 \\mid H_0) = \\mathbb{P} \\left(X_1 \\ge c  \\mid X_1 \\sim U[0; 100] \\right) = \\frac{100 - c}{100}\n",
        "$$"
      ],
      "metadata": {
        "id": "KAM6oSq-DwZO"
      }
    },
    {
      "cell_type": "markdown",
      "source": [
        "$$\n",
        "\\beta = \\mathbb{P}(H_1 \\mid H_0) = \\mathbb{P} \\left(X_1 < c  \\mid X_1 \\sim U[50; 150] \\right) = \\frac{c - 50}{150 - 50}\n",
        "$$"
      ],
      "metadata": {
        "id": "5HLf_E6NErbs"
      }
    },
    {
      "cell_type": "markdown",
      "source": [
        "$$\n",
        "\\beta = \\frac{100 - 100 \\cdot \\alpha - 50}{100} = 0.5 - \\alpha\n",
        "$$"
      ],
      "metadata": {
        "id": "hPsp9qZrGrC9"
      }
    },
    {
      "cell_type": "markdown",
      "source": [
        "__Упражнение 3__\n",
        "\n",
        "$H_0$ vs $H_1$ скорее всего 50/50 \n",
        "\n",
        "$\\alpha = 0.05, \\beta = 0.2$\n",
        "\n",
        "\n",
        "\n",
        "\n"
      ],
      "metadata": {
        "id": "IfklGZrVHhd-"
      }
    },
    {
      "cell_type": "markdown",
      "source": [
        "|            | $H_0$ правда     | $H_1$ правда    |\n",
        "|------------|------------------|-----------------|\n",
        "|взять $H_0$ | $0.95 \\cdot 0.5$ | $0.2 \\cdot 0.5$ | \n",
        "|взять $H_1$ | $0.05 \\cdot 0.5$ | $0.2 \\cdot 0.5$ |"
      ],
      "metadata": {
        "id": "rMx1EovpIXfZ"
      }
    },
    {
      "cell_type": "code",
      "source": [
        "0.95*0.5"
      ],
      "metadata": {
        "colab": {
          "base_uri": "https://localhost:8080/"
        },
        "id": "qT8ELrl8IFYE",
        "outputId": "13482f55-d2e1-4914-c717-2e6f8b3798e5"
      },
      "execution_count": 36,
      "outputs": [
        {
          "output_type": "execute_result",
          "data": {
            "text/plain": [
              "0.475"
            ]
          },
          "metadata": {},
          "execution_count": 36
        }
      ]
    },
    {
      "cell_type": "code",
      "source": [
        "0.05*0.5"
      ],
      "metadata": {
        "colab": {
          "base_uri": "https://localhost:8080/"
        },
        "id": "6m7sfN3ZAj1h",
        "outputId": "a4eb9cd0-13ed-43dd-bfa6-e3968ddfe03f"
      },
      "execution_count": 37,
      "outputs": [
        {
          "output_type": "execute_result",
          "data": {
            "text/plain": [
              "0.025"
            ]
          },
          "metadata": {},
          "execution_count": 37
        }
      ]
    },
    {
      "cell_type": "markdown",
      "source": [
        "|            | $H_0$ правда     | $H_1$ правда |\n",
        "|------------|------------------|--------------|\n",
        "|взять $H_0$ | $0.475$ | $0.1$          | \n",
        "|взять $H_1$ | $0.025$ | $0.4$         |"
      ],
      "metadata": {
        "id": "PoUolOraI9_b"
      }
    },
    {
      "cell_type": "markdown",
      "source": [
        "- $\\alpha = 0.01$ - ?\n",
        "- $\\beta = 0.01$ - ?\n",
        "- Априорно скорее всего $H_0$ неверна - ?"
      ],
      "metadata": {
        "id": "pQJE4ttIJJOv"
      }
    },
    {
      "cell_type": "code",
      "source": [
        ""
      ],
      "metadata": {
        "id": "n-uAW-oI_XoA"
      },
      "execution_count": null,
      "outputs": []
    },
    {
      "cell_type": "code",
      "source": [
        ""
      ],
      "metadata": {
        "id": "Mj6LBh58-kcq"
      },
      "execution_count": null,
      "outputs": []
    }
  ]
}