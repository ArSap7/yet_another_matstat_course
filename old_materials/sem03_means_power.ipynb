{
  "nbformat": 4,
  "nbformat_minor": 0,
  "metadata": {
    "colab": {
      "name": "Untitled29.ipynb",
      "provenance": []
    },
    "kernelspec": {
      "name": "python3",
      "display_name": "Python 3"
    },
    "language_info": {
      "name": "python"
    },
    "widgets": {
      "application/vnd.jupyter.widget-state+json": {
        "d3851d702ef34faaab1302f42ae3220c": {
          "model_module": "@jupyter-widgets/controls",
          "model_name": "HBoxModel",
          "model_module_version": "1.5.0",
          "state": {
            "_dom_classes": [],
            "_model_module": "@jupyter-widgets/controls",
            "_model_module_version": "1.5.0",
            "_model_name": "HBoxModel",
            "_view_count": null,
            "_view_module": "@jupyter-widgets/controls",
            "_view_module_version": "1.5.0",
            "_view_name": "HBoxView",
            "box_style": "",
            "children": [
              "IPY_MODEL_28e82c45ff8a42f888ce90a2daeea229",
              "IPY_MODEL_d76d88a72ecb442ca8371d37e58b0060",
              "IPY_MODEL_345864f58a2946ffa3f4ce2a70767f4e"
            ],
            "layout": "IPY_MODEL_49786b9660b844988d703205b9edf311"
          }
        },
        "28e82c45ff8a42f888ce90a2daeea229": {
          "model_module": "@jupyter-widgets/controls",
          "model_name": "HTMLModel",
          "model_module_version": "1.5.0",
          "state": {
            "_dom_classes": [],
            "_model_module": "@jupyter-widgets/controls",
            "_model_module_version": "1.5.0",
            "_model_name": "HTMLModel",
            "_view_count": null,
            "_view_module": "@jupyter-widgets/controls",
            "_view_module_version": "1.5.0",
            "_view_name": "HTMLView",
            "description": "",
            "description_tooltip": null,
            "layout": "IPY_MODEL_472501b00d084e72abf1e16d1bc496d7",
            "placeholder": "​",
            "style": "IPY_MODEL_30ed748117474cee8fcb94408c0eaebf",
            "value": "100%"
          }
        },
        "d76d88a72ecb442ca8371d37e58b0060": {
          "model_module": "@jupyter-widgets/controls",
          "model_name": "FloatProgressModel",
          "model_module_version": "1.5.0",
          "state": {
            "_dom_classes": [],
            "_model_module": "@jupyter-widgets/controls",
            "_model_module_version": "1.5.0",
            "_model_name": "FloatProgressModel",
            "_view_count": null,
            "_view_module": "@jupyter-widgets/controls",
            "_view_module_version": "1.5.0",
            "_view_name": "ProgressView",
            "bar_style": "success",
            "description": "",
            "description_tooltip": null,
            "layout": "IPY_MODEL_adaa8b3b16174403aa73bc5c2903d763",
            "max": 100000,
            "min": 0,
            "orientation": "horizontal",
            "style": "IPY_MODEL_98ca4bbd76a94330b5b9910b7b4f5c6f",
            "value": 100000
          }
        },
        "345864f58a2946ffa3f4ce2a70767f4e": {
          "model_module": "@jupyter-widgets/controls",
          "model_name": "HTMLModel",
          "model_module_version": "1.5.0",
          "state": {
            "_dom_classes": [],
            "_model_module": "@jupyter-widgets/controls",
            "_model_module_version": "1.5.0",
            "_model_name": "HTMLModel",
            "_view_count": null,
            "_view_module": "@jupyter-widgets/controls",
            "_view_module_version": "1.5.0",
            "_view_name": "HTMLView",
            "description": "",
            "description_tooltip": null,
            "layout": "IPY_MODEL_423daaf3e47346108fa9fa8041d2878f",
            "placeholder": "​",
            "style": "IPY_MODEL_2210d47273ed4dae8ff52ae3f38c6607",
            "value": " 100000/100000 [00:10&lt;00:00, 9832.52it/s]"
          }
        },
        "49786b9660b844988d703205b9edf311": {
          "model_module": "@jupyter-widgets/base",
          "model_name": "LayoutModel",
          "model_module_version": "1.2.0",
          "state": {
            "_model_module": "@jupyter-widgets/base",
            "_model_module_version": "1.2.0",
            "_model_name": "LayoutModel",
            "_view_count": null,
            "_view_module": "@jupyter-widgets/base",
            "_view_module_version": "1.2.0",
            "_view_name": "LayoutView",
            "align_content": null,
            "align_items": null,
            "align_self": null,
            "border": null,
            "bottom": null,
            "display": null,
            "flex": null,
            "flex_flow": null,
            "grid_area": null,
            "grid_auto_columns": null,
            "grid_auto_flow": null,
            "grid_auto_rows": null,
            "grid_column": null,
            "grid_gap": null,
            "grid_row": null,
            "grid_template_areas": null,
            "grid_template_columns": null,
            "grid_template_rows": null,
            "height": null,
            "justify_content": null,
            "justify_items": null,
            "left": null,
            "margin": null,
            "max_height": null,
            "max_width": null,
            "min_height": null,
            "min_width": null,
            "object_fit": null,
            "object_position": null,
            "order": null,
            "overflow": null,
            "overflow_x": null,
            "overflow_y": null,
            "padding": null,
            "right": null,
            "top": null,
            "visibility": null,
            "width": null
          }
        },
        "472501b00d084e72abf1e16d1bc496d7": {
          "model_module": "@jupyter-widgets/base",
          "model_name": "LayoutModel",
          "model_module_version": "1.2.0",
          "state": {
            "_model_module": "@jupyter-widgets/base",
            "_model_module_version": "1.2.0",
            "_model_name": "LayoutModel",
            "_view_count": null,
            "_view_module": "@jupyter-widgets/base",
            "_view_module_version": "1.2.0",
            "_view_name": "LayoutView",
            "align_content": null,
            "align_items": null,
            "align_self": null,
            "border": null,
            "bottom": null,
            "display": null,
            "flex": null,
            "flex_flow": null,
            "grid_area": null,
            "grid_auto_columns": null,
            "grid_auto_flow": null,
            "grid_auto_rows": null,
            "grid_column": null,
            "grid_gap": null,
            "grid_row": null,
            "grid_template_areas": null,
            "grid_template_columns": null,
            "grid_template_rows": null,
            "height": null,
            "justify_content": null,
            "justify_items": null,
            "left": null,
            "margin": null,
            "max_height": null,
            "max_width": null,
            "min_height": null,
            "min_width": null,
            "object_fit": null,
            "object_position": null,
            "order": null,
            "overflow": null,
            "overflow_x": null,
            "overflow_y": null,
            "padding": null,
            "right": null,
            "top": null,
            "visibility": null,
            "width": null
          }
        },
        "30ed748117474cee8fcb94408c0eaebf": {
          "model_module": "@jupyter-widgets/controls",
          "model_name": "DescriptionStyleModel",
          "model_module_version": "1.5.0",
          "state": {
            "_model_module": "@jupyter-widgets/controls",
            "_model_module_version": "1.5.0",
            "_model_name": "DescriptionStyleModel",
            "_view_count": null,
            "_view_module": "@jupyter-widgets/base",
            "_view_module_version": "1.2.0",
            "_view_name": "StyleView",
            "description_width": ""
          }
        },
        "adaa8b3b16174403aa73bc5c2903d763": {
          "model_module": "@jupyter-widgets/base",
          "model_name": "LayoutModel",
          "model_module_version": "1.2.0",
          "state": {
            "_model_module": "@jupyter-widgets/base",
            "_model_module_version": "1.2.0",
            "_model_name": "LayoutModel",
            "_view_count": null,
            "_view_module": "@jupyter-widgets/base",
            "_view_module_version": "1.2.0",
            "_view_name": "LayoutView",
            "align_content": null,
            "align_items": null,
            "align_self": null,
            "border": null,
            "bottom": null,
            "display": null,
            "flex": null,
            "flex_flow": null,
            "grid_area": null,
            "grid_auto_columns": null,
            "grid_auto_flow": null,
            "grid_auto_rows": null,
            "grid_column": null,
            "grid_gap": null,
            "grid_row": null,
            "grid_template_areas": null,
            "grid_template_columns": null,
            "grid_template_rows": null,
            "height": null,
            "justify_content": null,
            "justify_items": null,
            "left": null,
            "margin": null,
            "max_height": null,
            "max_width": null,
            "min_height": null,
            "min_width": null,
            "object_fit": null,
            "object_position": null,
            "order": null,
            "overflow": null,
            "overflow_x": null,
            "overflow_y": null,
            "padding": null,
            "right": null,
            "top": null,
            "visibility": null,
            "width": null
          }
        },
        "98ca4bbd76a94330b5b9910b7b4f5c6f": {
          "model_module": "@jupyter-widgets/controls",
          "model_name": "ProgressStyleModel",
          "model_module_version": "1.5.0",
          "state": {
            "_model_module": "@jupyter-widgets/controls",
            "_model_module_version": "1.5.0",
            "_model_name": "ProgressStyleModel",
            "_view_count": null,
            "_view_module": "@jupyter-widgets/base",
            "_view_module_version": "1.2.0",
            "_view_name": "StyleView",
            "bar_color": null,
            "description_width": ""
          }
        },
        "423daaf3e47346108fa9fa8041d2878f": {
          "model_module": "@jupyter-widgets/base",
          "model_name": "LayoutModel",
          "model_module_version": "1.2.0",
          "state": {
            "_model_module": "@jupyter-widgets/base",
            "_model_module_version": "1.2.0",
            "_model_name": "LayoutModel",
            "_view_count": null,
            "_view_module": "@jupyter-widgets/base",
            "_view_module_version": "1.2.0",
            "_view_name": "LayoutView",
            "align_content": null,
            "align_items": null,
            "align_self": null,
            "border": null,
            "bottom": null,
            "display": null,
            "flex": null,
            "flex_flow": null,
            "grid_area": null,
            "grid_auto_columns": null,
            "grid_auto_flow": null,
            "grid_auto_rows": null,
            "grid_column": null,
            "grid_gap": null,
            "grid_row": null,
            "grid_template_areas": null,
            "grid_template_columns": null,
            "grid_template_rows": null,
            "height": null,
            "justify_content": null,
            "justify_items": null,
            "left": null,
            "margin": null,
            "max_height": null,
            "max_width": null,
            "min_height": null,
            "min_width": null,
            "object_fit": null,
            "object_position": null,
            "order": null,
            "overflow": null,
            "overflow_x": null,
            "overflow_y": null,
            "padding": null,
            "right": null,
            "top": null,
            "visibility": null,
            "width": null
          }
        },
        "2210d47273ed4dae8ff52ae3f38c6607": {
          "model_module": "@jupyter-widgets/controls",
          "model_name": "DescriptionStyleModel",
          "model_module_version": "1.5.0",
          "state": {
            "_model_module": "@jupyter-widgets/controls",
            "_model_module_version": "1.5.0",
            "_model_name": "DescriptionStyleModel",
            "_view_count": null,
            "_view_module": "@jupyter-widgets/base",
            "_view_module_version": "1.2.0",
            "_view_name": "StyleView",
            "description_width": ""
          }
        }
      }
    }
  },
  "cells": [
    {
      "cell_type": "markdown",
      "source": [
        "# Мощь средних "
      ],
      "metadata": {
        "id": "5FcuqEfmyA1k"
      }
    },
    {
      "cell_type": "code",
      "source": [
        "import numpy as np\n",
        "import pandas as pd\n",
        "from scipy import stats\n",
        "import seaborn as sns\n",
        "import matplotlib.pyplot as plt\n",
        "\n",
        "plt.style.use('ggplot')\n",
        "%matplotlib inline"
      ],
      "metadata": {
        "id": "RamuNRk73_ke"
      },
      "execution_count": 1,
      "outputs": []
    },
    {
      "cell_type": "code",
      "source": [
        "def norm_conf_int(alpha, mean_hat, std_hat, margin=5):\n",
        "    \"\"\"\n",
        "        Строит 95% асимптотически-нормальный доверительный интервал\n",
        "    \"\"\"\n",
        "    \n",
        "    plt.figure(figsize=(10,5))\n",
        "    xs = np.linspace(mean_hat - margin, mean_hat + margin)\n",
        "    pdf = stats.norm(mean_hat, std_hat).pdf(xs)\n",
        "\n",
        "    plt.plot(xs, pdf)\n",
        "    plt.ylabel('$f(x)$', fontsize=18)\n",
        "    plt.xlabel('$x$', fontsize=18)\n",
        "\n",
        "    left, right = stats.norm.interval(1 - alpha, loc=mean_hat, scale=std_hat)\n",
        "    \n",
        "    for i in [left, right]: \n",
        "        y_max = plt.ylim()[1]\n",
        "        plt.axvline(i, color=\"blue\", linestyle='dashed', lw=2)\n",
        "        \n",
        "        if i == left:\n",
        "            xq = np.linspace(mean_hat - margin, left)\n",
        "        else:\n",
        "            xq = np.linspace(right, mean_hat + margin)\n",
        "        \n",
        "        text_margin = 0.05\n",
        "        plt.text(i + text_margin, 0.8*y_max, round(i, 2), color=\"blue\", fontsize=14)\n",
        "        yq = stats.norm(mean_hat, std_hat).pdf(xq)\n",
        "        plt.fill_between(xq, 0, yq, color='blue', alpha=0.3)\n",
        "\n",
        "    return left, right"
      ],
      "metadata": {
        "id": "rM9GVyT3Bd-0"
      },
      "execution_count": 18,
      "outputs": []
    },
    {
      "cell_type": "markdown",
      "source": [
        "__ЗБЧ:__ $\\bar X_n \\approx \\mathbb{E}(X_i)$ при большем $n$ \n"
      ],
      "metadata": {
        "id": "l8T0ZPlwyA41"
      }
    },
    {
      "cell_type": "markdown",
      "source": [
        "__Метод моментов__\n",
        "\n",
        "$\\mathbb{E}(X^k) = f(a)$\n",
        "\n",
        "$f(a) = \\bar{x^k} \\Rightarrow \\hat a = f^{-1} (\\bar{x^k})$"
      ],
      "metadata": {
        "id": "uh3yh5ehyA7k"
      }
    },
    {
      "cell_type": "markdown",
      "source": [
        "__Упражнение 1 (про Шарика и Глафиру)__\n",
        "\n",
        "Продавщица Глафира отдаёт псу Шарику в конце каждого дня нерасфасованные остатки мясного фарша. Фарш фасуется упаковками по $a$ грамм, поэтому нерасфасованный остаток в $i$-ый день, $X_i$, случаен и равномерно распределен на отрезке $[0;a]$. Пёс Шарик хорошо помнит все $X_1, \\ldots, X_n$. Помогите псу Шарику найти оценку $a$ методом моментов.\n",
        "\n",
        "____"
      ],
      "metadata": {
        "id": "u9c8DwWczO4a"
      }
    },
    {
      "cell_type": "markdown",
      "source": [
        "__Модель:__  $X_1, \\ldots, X_n \\sim iid  U[0; a]$\n",
        "\n",
        "__Эксперимент:__ Шарик каждый день ест мясо и запоминает сколько ему дали\n",
        "\n"
      ],
      "metadata": {
        "id": "Vk58_dVAzO8l"
      }
    },
    {
      "cell_type": "markdown",
      "source": [
        "__Союзник для оценивания:__ ЗБЧ, метод моментов"
      ],
      "metadata": {
        "id": "Yi0f77eI0I-C"
      }
    },
    {
      "cell_type": "markdown",
      "source": [
        "$$\n",
        "\\mathbb{E}(X_i) = \\frac{a - 0}{2} \\approx \\bar{X}_n\n",
        "$$\n",
        "\n",
        "$$\n",
        "\\frac{\\hat a}{2} = \\bar{X}_n \\Rightarrow \\hat a = 2 \\cdot \\bar{X}_n\n",
        "$$\n"
      ],
      "metadata": {
        "id": "GAx1uXTk0kc6"
      }
    },
    {
      "cell_type": "markdown",
      "source": [
        "__Упражнение 2 (про равномерное)__\n",
        "\n",
        "$X_1, \\ldots, X_n \\sim iid  U[-a; a]$"
      ],
      "metadata": {
        "id": "OkieG6IPzOzH"
      }
    },
    {
      "cell_type": "markdown",
      "source": [
        "$$\n",
        "\\mathbb{E}(X_i) = 0 \\approx \\bar{X}_n\n",
        "$$"
      ],
      "metadata": {
        "id": "Ci3ViI6D1lnG"
      }
    },
    {
      "cell_type": "markdown",
      "source": [
        "$$\n",
        "\\mathbb{E}(X_i) = \\int_{-a}^a t \\cdot f_X(t) dt = \\int_{-a}^a t \\cdot \\frac{1}{2a} dt =  \\frac{t^2}{4a} \\mid_{-a}^a = \\frac{a^2 - (-a)^2}{4a} = 0\n",
        "$$\n",
        "\n"
      ],
      "metadata": {
        "id": "juYKDKj21tmE"
      }
    },
    {
      "cell_type": "markdown",
      "source": [
        "$$\n",
        "\\mathbb{E}(X^2_i) = \\int_{-a}^a t^2 \\cdot f_X(t) dt = \\int_{-a}^a t^2 \\cdot \\frac{1}{2a} dt =  \\frac{t^3}{6 a} \\mid_{-a}^a = \\frac{2a^3}{6 a} = \\frac{a^2}{3} \\approx \\bar{x^2} \\Rightarrow \\hat a = \\sqrt{3 \\cdot \\bar{x^2}} \n",
        "$$"
      ],
      "metadata": {
        "id": "lEpx5sOJ2afp"
      }
    },
    {
      "cell_type": "markdown",
      "source": [
        "__Упражнение 3 (про равномерное)__\n",
        "\n",
        "$X_1, \\ldots, X_n \\sim iid  U[a; b]$"
      ],
      "metadata": {
        "id": "OrxH7bzU26EM"
      }
    },
    {
      "cell_type": "markdown",
      "source": [
        "$$\n",
        "\\mathbb{E}(X) = \\bar{x}\n",
        "$$\n",
        "$$\n",
        "\\mathbb{Var}(X) = \\bar{x^2} - (\\bar x)^2\n",
        "$$"
      ],
      "metadata": {
        "id": "1B6VNvSM3CqN"
      }
    },
    {
      "cell_type": "markdown",
      "source": [
        "# А насколько эта оценка хороша? "
      ],
      "metadata": {
        "id": "kh225wi93W6f"
      }
    },
    {
      "cell_type": "markdown",
      "source": [
        "__Предиктивный интервал -__ интервал внутри которого лежит случайная величина с какой-то вероятностью. Границы это какие-то числа. \n",
        "\n",
        "\n",
        "$X \\sim N(\\mu, \\sigma^2)$\n"
      ],
      "metadata": {
        "id": "f6lLxbpr3yAq"
      }
    },
    {
      "cell_type": "markdown",
      "source": [
        "$ \\mathbb{P}(\\mu - \\sigma \\le X \\le \\mu + \\sigma) \\approx 0.687  $\n",
        "\n",
        "$ \\mathbb{P}(\\mu - 2\\cdot\\sigma \\le X \\le \\mu + 2 \\cdot \\sigma) \\approx 0.95 $\n",
        "\n",
        "$ \\mathbb{P}(\\mu - 3 \\cdot \\sigma \\le X \\le \\mu + \\cdot \\sigma) \\approx 0.997 $"
      ],
      "metadata": {
        "id": "eL7C7AR046Q4"
      }
    },
    {
      "cell_type": "code",
      "source": [
        "margin = 10\n",
        "mean_hat = 2\n",
        "std_hat = 3\n",
        "\n",
        "q = 1.96\n",
        "\n",
        "plt.figure(figsize=(10,5))\n",
        "xs = np.linspace(mean_hat - margin, mean_hat + margin)\n",
        "pdf = stats.norm(mean_hat, std_hat).pdf(xs)\n",
        "\n",
        "plt.plot(xs, pdf)\n",
        "plt.axvline(mean_hat, color='blue', linestyle=\"--\", lw=2)\n",
        "\n",
        "xq = np.linspace(mean_hat - q*std_hat, mean_hat + q*std_hat)\n",
        "yq = stats.norm(mean_hat, std_hat).pdf(xq)\n",
        "plt.fill_between(xq, 0, yq, color='blue', alpha=0.2)\n",
        "\n",
        "plt.ylabel('$f(x)$', fontsize=18)\n",
        "plt.xlabel('$x$', fontsize=18);"
      ],
      "metadata": {
        "colab": {
          "base_uri": "https://localhost:8080/",
          "height": 342
        },
        "id": "hLHnXbec4GQx",
        "outputId": "75062471-e8a3-414a-afcf-cfe657b71379"
      },
      "execution_count": 12,
      "outputs": [
        {
          "output_type": "display_data",
          "data": {
            "text/plain": [
              "<Figure size 720x360 with 1 Axes>"
            ],
            "image/png": "[encoded data removed]"
          },
          "metadata": {
            "needs_background": "light"
          }
        }
      ]
    },
    {
      "cell_type": "markdown",
      "source": [
        "__Доверительный интервал__ - интервал для неизвестного параметра. Его границы это случайные величины. И эти случайные величины покрывают неизвестный параметр с какой-то вероятностью.  "
      ],
      "metadata": {
        "id": "LSXhQCNH3XDJ"
      }
    },
    {
      "cell_type": "markdown",
      "source": [
        "Доверительный интервал нужен, чтобы понимать насколько точной получилась наша оценка неизвестного параметра. "
      ],
      "metadata": {
        "id": "jdHFM-sJ6dtD"
      }
    },
    {
      "cell_type": "markdown",
      "source": [
        "$\\hat a = 2 \\cdot \\bar{X}_n$ - это точечная оценка. Хотелось бы понять, насколько сильно от неё может откланяться реальное значение $a$."
      ],
      "metadata": {
        "id": "4X8uW5M16YGa"
      }
    },
    {
      "cell_type": "code",
      "source": [
        "uniform_rv = stats.uniform(0, 100)\n",
        "X = uniform_rv.rvs(14)\n",
        "2*X.mean()"
      ],
      "metadata": {
        "colab": {
          "base_uri": "https://localhost:8080/"
        },
        "id": "fIKUwcYy6rPg",
        "outputId": "e9e3ad53-55cc-4d12-ccd9-6ab1ea924032"
      },
      "execution_count": 17,
      "outputs": [
        {
          "output_type": "execute_result",
          "data": {
            "text/plain": [
              "103.86070953567626"
            ]
          },
          "metadata": {},
          "execution_count": 17
        }
      ]
    },
    {
      "cell_type": "markdown",
      "source": [
        "__Разные формы записи ЦПТ:__"
      ],
      "metadata": {
        "id": "mtc4hKDc8wh-"
      }
    },
    {
      "cell_type": "markdown",
      "source": [
        "$$\n",
        "\\bar X_n \\overset{asy}{\\sim} N \\left( \\mathbb{E}(X_i), \\frac{Var(X_i)}{n} \\right)\n",
        "$$"
      ],
      "metadata": {
        "id": "I6op1e-G6-PR"
      }
    },
    {
      "cell_type": "markdown",
      "source": [
        "$$\n",
        "\\bar X_n - \\mathbb{E}(X_i) \\overset{asy}{\\sim} N \\left( 0, \\frac{Var(X_i)}{n} \\right)\n",
        "$$"
      ],
      "metadata": {
        "id": "uwaeZnDl7W9e"
      }
    },
    {
      "cell_type": "markdown",
      "source": [
        "$$\n",
        "\\frac{\\bar X_n - \\mathbb{E}(X_i)}{ \\sqrt{\\frac{Var(X_i)}{n}}} \\overset{asy}{\\sim} N \\left( 0, 1 \\right)\n",
        "$$"
      ],
      "metadata": {
        "id": "ojmSIj8u8TVQ"
      }
    },
    {
      "cell_type": "markdown",
      "source": [
        "$$\n",
        "\\sqrt{n} \\cdot \\frac{\\bar X_n - \\mathbb{E}(X_i)}{ \\sqrt{Var(X_i)}} \\overset{asy}{\\sim} N \\left( 0, 1 \\right)\n",
        "$$"
      ],
      "metadata": {
        "id": "9QcYc2GT8p6O"
      }
    },
    {
      "cell_type": "markdown",
      "source": [
        "__Свойства нормального распределения:__\n",
        "\n",
        "$X \\sim N(\\mu_1, \\sigma^2_1)$\n",
        "\n",
        "$Y \\sim N(\\mu_2, \\sigma^2_2)$\n",
        "\n",
        "\n",
        "\n"
      ],
      "metadata": {
        "id": "A24_SE--8z9Y"
      }
    },
    {
      "cell_type": "markdown",
      "source": [
        "- $4X \\sim N(4 \\mu_1, 16 \\sigma^2_1)$\n",
        "- $X + Y \\sim  N(\\mu_1 + \\mu_2, \\sigma_1^2 + \\sigma^2_2 + 2 Cov(X, Y))$\n",
        "- $X - Y \\sim  N(\\mu_1 - \\mu_2, \\sigma_1^2 + \\sigma^2_2 - 2 Cov(X, Y))$ \n",
        "- $\\frac{X}{Y}\\sim Cauchy(\\gamma, m)$"
      ],
      "metadata": {
        "id": "SgyTou7I80E2"
      }
    },
    {
      "cell_type": "markdown",
      "source": [
        "$\\mathbb{E}(4X) = 4 \\mathbb{E}(X) = 4 \\mu_1$\n",
        "\n",
        "$Var(4X) =16 Var(X) = 16 \\sigma_1^2$\n",
        "\n",
        "$Var(X - Y) = Cov(X-Y, X-Y) = Var(X) - 2 Cov(X, Y)+ Var(Y) $"
      ],
      "metadata": {
        "id": "luowotqw9ZyT"
      }
    },
    {
      "cell_type": "markdown",
      "source": [
        "Давайте наконец поймём как построить доверитальный интервал для объёма упаковки!"
      ],
      "metadata": {
        "id": "GnaPLMa9-9o1"
      }
    },
    {
      "cell_type": "markdown",
      "source": [
        "__Модель:__  $X_1, \\ldots, X_n \\sim iid  U[0; a]$\n",
        "\n",
        "$$\\mathbb{E}(X_i) = \\frac{a}{2}$$\n",
        "\n",
        "$$Var(X_i) = \\frac{a^2}{12}$$"
      ],
      "metadata": {
        "id": "oxM2n4ru_Cxp"
      }
    },
    {
      "cell_type": "markdown",
      "source": [
        "__ЦПТ:__\n",
        "\n",
        "$$\n",
        "\\bar X_n \\overset{asy}{\\sim} N \\left(\\frac{a}{2}, \\frac{a^2}{12n} \\right)\n",
        "$$\n",
        "\n",
        "$$\n",
        "\\hat a = 2 \\bar X_n \\overset{asy}{\\sim} N \\left(a, \\frac{a^2}{3n} \\right)\n",
        "$$"
      ],
      "metadata": {
        "id": "4QWzN8rK_ZQb"
      }
    },
    {
      "cell_type": "markdown",
      "source": [
        "Оценка несмещённая: $\\mathbb{E}(\\hat a) = \\mathbb{E}(2 \\bar X_n) = a$"
      ],
      "metadata": {
        "id": "iXvbI5yf6NdF"
      }
    },
    {
      "cell_type": "markdown",
      "source": [
        "Оценка состоятельная: $2 \\bar{X}_n \\overset{asy}{\\to} 2 \\cdot \\frac{a}{2} = a$ (напрямую воспользовался ЗБЧ)"
      ],
      "metadata": {
        "id": "F1l9N8ZgAIVE"
      }
    },
    {
      "cell_type": "markdown",
      "source": [
        "Эффективная - ???  ХЗ, надо проверять "
      ],
      "metadata": {
        "id": "-_SEzCOjAiKD"
      }
    },
    {
      "cell_type": "markdown",
      "source": [
        "__95% gредиктивный интервал для случайной величины $\\hat a$:__\n",
        "\n",
        "$$\n",
        "\\mathbb{P} \\left(a - z_{1-\\frac{\\alpha}{2}} \\cdot \\sqrt{\\frac{a^2}{3n}} \\le \\hat a \\le a + z_{1-\\frac{\\alpha}{2}} \\cdot \\sqrt{\\frac{a^2}{3n}} \\right) \\approx 1 - \\alpha\n",
        "$$\n"
      ],
      "metadata": {
        "id": "2spATdyC6Nf0"
      }
    },
    {
      "cell_type": "markdown",
      "source": [
        "Среди этих двух ребят я хочу дружить с Анфисов, её прогнозы адекватнее!\n",
        "\n",
        "__Петя:__ завтра температура за окном будет от -273 до 10 градусов с вероятностью 0.95\n",
        "\n",
        "__Анфиса:__ завтра температура за окном будет от -5 до 15 градусов с вероятностью 0.95"
      ],
      "metadata": {
        "id": "Txmg8jPqCA8-"
      }
    },
    {
      "cell_type": "code",
      "source": [
        "norm_conf_int(0.05, 0, 1, margin=3)"
      ],
      "metadata": {
        "colab": {
          "base_uri": "https://localhost:8080/",
          "height": 361
        },
        "id": "6uxYOb5zBi08",
        "outputId": "77b97ce8-07ba-4f2f-a252-aa5f2bc2756a"
      },
      "execution_count": 22,
      "outputs": [
        {
          "output_type": "execute_result",
          "data": {
            "text/plain": [
              "(-1.959963984540054, 1.959963984540054)"
            ]
          },
          "metadata": {},
          "execution_count": 22
        },
        {
          "output_type": "display_data",
          "data": {
            "text/plain": [
              "<Figure size 720x360 with 1 Axes>"
            ],
            "image/png": "[encoded data removed]"
          },
          "metadata": {
            "needs_background": "light"
          }
        }
      ]
    },
    {
      "cell_type": "markdown",
      "source": [
        "__95% доверительный интервал для неизвестного параметра $a$:__\n",
        "\n",
        "$$\n",
        "\\mathbb{P} \\left(\\hat a - z_{1-\\frac{\\alpha}{2}} \\cdot \\sqrt{\\frac{a^2}{3n}} \\le a \\le \\hat a + z_{1-\\frac{\\alpha}{2}} \\cdot \\sqrt{\\frac{a^2}{3n}} \\right) \\approx 1 - \\alpha\n",
        "$$"
      ],
      "metadata": {
        "id": "qegUZfKVBZyV"
      }
    },
    {
      "cell_type": "markdown",
      "source": [
        "Проблема: я не знаю стандартных отклонений :( "
      ],
      "metadata": {
        "id": "3o-FDlMkC2SM"
      }
    },
    {
      "cell_type": "markdown",
      "source": [
        "$$\n",
        "\\mathbb{P} \\left(\\hat a - z_{1-\\frac{\\alpha}{2}} \\cdot \\sqrt{\\frac{\\hat a^2}{3n}} \\le a \\le \\hat a + z_{1-\\frac{\\alpha}{2}} \\cdot \\sqrt{\\frac{\\hat a^2}{3n}} \\right) \\approx 1 - \\alpha\n",
        "$$"
      ],
      "metadata": {
        "id": "-GbkuZd-6NiQ"
      }
    },
    {
      "cell_type": "code",
      "source": [
        "from tqdm.notebook import tqdm\n",
        "a = 100\n",
        "uniform_rv = stats.uniform(0, a)\n",
        "\n",
        "n_obs = 100000\n",
        "zq = 1.96\n",
        "\n",
        "n = 100\n",
        "cnt = 0\n",
        "for i in tqdm(range(n_obs)):\n",
        "    X = uniform_rv.rvs(n)\n",
        "    a_hat = 2*X.mean()\n",
        "    std_hat = np.sqrt(a_hat**2/(3*n))\n",
        "    if (a_hat - zq*std_hat) < a < (a_hat + zq*std_hat):\n",
        "        cnt += 1\n",
        "\n",
        "cnt/n_obs"
      ],
      "metadata": {
        "colab": {
          "base_uri": "https://localhost:8080/",
          "height": 67,
          "referenced_widgets": [
            "d3851d702ef34faaab1302f42ae3220c",
            "28e82c45ff8a42f888ce90a2daeea229",
            "d76d88a72ecb442ca8371d37e58b0060",
            "345864f58a2946ffa3f4ce2a70767f4e",
            "49786b9660b844988d703205b9edf311",
            "472501b00d084e72abf1e16d1bc496d7",
            "30ed748117474cee8fcb94408c0eaebf",
            "adaa8b3b16174403aa73bc5c2903d763",
            "98ca4bbd76a94330b5b9910b7b4f5c6f",
            "423daaf3e47346108fa9fa8041d2878f",
            "2210d47273ed4dae8ff52ae3f38c6607"
          ]
        },
        "id": "wo7hlGKxDIVP",
        "outputId": "8cb5cb64-cc2e-40b7-969e-40d63b577a04"
      },
      "execution_count": 33,
      "outputs": [
        {
          "output_type": "display_data",
          "data": {
            "text/plain": [
              "  0%|          | 0/100000 [00:00<?, ?it/s]"
            ],
            "application/vnd.jupyter.widget-view+json": {
              "version_major": 2,
              "version_minor": 0,
              "model_id": "d3851d702ef34faaab1302f42ae3220c"
            }
          },
          "metadata": {}
        },
        {
          "output_type": "execute_result",
          "data": {
            "text/plain": [
              "0.94758"
            ]
          },
          "metadata": {},
          "execution_count": 33
        }
      ]
    },
    {
      "cell_type": "markdown",
      "source": [
        "# А какой скорее всего размер у упаковки с мясом? \n"
      ],
      "metadata": {
        "id": "_yk9ja5CGes5"
      }
    },
    {
      "cell_type": "code",
      "source": [
        "def asy_mean_test(mean_hat, std_hat, mu_0=0, \n",
        "                   alpha=0.05, alternative='two-sided', margin=3):\n",
        "    \"\"\"\n",
        "        Асимптотический тест для равенства средних\n",
        "    \"\"\"\n",
        "    \n",
        "    z_obs = (mean_hat - mu_0)/std_hat\n",
        "    \n",
        "    if alternative == 'two-sided':\n",
        "        p_value = 2 * (1 - stats.norm().cdf(np.abs(z_obs)))\n",
        "        z_crit = stats.norm().ppf(1 - alpha/2)\n",
        "        \n",
        "        statistics = ['-z_crit', 'z_crit', '-z_obs', 'z_obs']\n",
        "        params = dict(zip(statistics, [(-z_crit, -0.6, -margin, -z_crit, 'b'), \n",
        "                                       (z_crit, 0.05, z_crit, margin, 'b'),\n",
        "                                       (-z_obs, -0.6, -margin, -z_obs, 'r'), \n",
        "                                       (z_obs, 0.1, z_obs, margin, 'r')]))\n",
        "    \n",
        "    if alternative == 'less':\n",
        "        p_value = stats.norm().cdf(z_obs)\n",
        "        z_crit = stats.norm().ppf(1 - alpha)\n",
        "        \n",
        "        statistics = ['-z_crit', '-z_obs']\n",
        "        params = dict(zip(statistics, [(-z_crit, -0.6, -margin, -z_crit, 'b'), \n",
        "                                       (-z_obs, -0.6, -margin, -z_obs, 'r')]))\n",
        "\n",
        "    if alternative == 'larger':\n",
        "        p_value = 1 - stats.norm().cdf(z_obs)\n",
        "        z_crit = stats.norm().ppf(1 - alpha)\n",
        "        \n",
        "        statistics = ['z_crit', 'z_obs']\n",
        "        params = dict(zip(statistics, [(z_crit, 0.05, z_crit, margin, 'b'),\n",
        "                                       (z_obs, 0.1, z_obs, margin, 'r')]))\n",
        "    \n",
        "    \n",
        "    plt.figure(figsize = (10, 5))\n",
        "    x = np.linspace(-margin, margin)\n",
        "    pdf = stats.norm().pdf(x)\n",
        "\n",
        "    plt.plot(x, pdf, color=\"black\")\n",
        "    plt.ylabel(\"$f(x)$\", fontsize=16)\n",
        "    plt.xlabel(\"$x$\", fontsize=16)\n",
        "    y_max = plt.ylim()[1]\n",
        "    \n",
        "    for i in range(len(statistics)):\n",
        "        statistic, text_margin, left_bound, right_bound, color = params[statistics[i]]\n",
        "        \n",
        "        plt.axvline(statistic, color=color, linestyle=\"--\", lw=2)\n",
        "        h = 0.8 if statistics[i].split('_')[-1] == 'crit' else 0.6\n",
        "        plt.text(statistic + text_margin, \n",
        "                 h*y_max, round(statistic, 2), color=color, fontsize=16)\n",
        "        \n",
        "        xq = np.linspace(left_bound, right_bound)\n",
        "        yq = stats.norm().pdf(xq)\n",
        "        plt.fill_between(xq, 0, yq, color=color, alpha=0.2)\n",
        "    \n",
        "    return p_value"
      ],
      "metadata": {
        "id": "gX6_xV0_GaDu"
      },
      "execution_count": 39,
      "outputs": []
    },
    {
      "cell_type": "markdown",
      "source": [
        "А как проверить гипотезу о том, что $a$ равна какому-то значению? \n",
        "\n",
        "\n",
        "$H_0: a = 100$\n",
        "\n",
        "$H_1: a \\ne 100$"
      ],
      "metadata": {
        "id": "8GWPsbqcEVxk"
      }
    },
    {
      "cell_type": "markdown",
      "source": [
        "Гипотезы мы всегда будем проверять отталкиваясь от статуса-кво. То есть мы всегда верим в нулевую гипотезу и ищем доказательства того, что она это полный булщит. "
      ],
      "metadata": {
        "id": "RuMQlemlFgBX"
      }
    },
    {
      "cell_type": "markdown",
      "source": [
        "$$\n",
        "\\hat a \\overset{H_0}{\\sim} N \\left(100, \\frac{\\hat a^2}{3n} \\right) \\approx N \\left(100, \\frac{100^2}{3n} \\right)\n",
        "$$"
      ],
      "metadata": {
        "id": "kpJcbvsoFNNO"
      }
    },
    {
      "cell_type": "markdown",
      "source": [
        "$$\n",
        "\\hat a - 100 \\overset{H_0}{\\sim} N \\left(0, \\frac{\\hat a^2}{3n} \\right)\n",
        "$$"
      ],
      "metadata": {
        "id": "tBTr4RMXFRVM"
      }
    },
    {
      "cell_type": "markdown",
      "source": [
        "$$\n",
        "T = \\frac{\\hat a - 100}{\\sqrt{\\frac{\\hat a^2}{3n}}} \\overset{H_0}{\\sim} N \\left(0, 1 \\right)\n",
        "$$"
      ],
      "metadata": {
        "id": "h9vPhqZ9GJYb"
      }
    },
    {
      "cell_type": "code",
      "source": [
        "a = 120\n",
        "uniform_rv = stats.uniform(0, a)\n",
        "\n",
        "n = 500\n",
        "x = uniform_rv.rvs(n)"
      ],
      "metadata": {
        "id": "svelTl9SEbEB"
      },
      "execution_count": 83,
      "outputs": []
    },
    {
      "cell_type": "code",
      "source": [
        "a_hat = 2*x.mean()\n",
        "std_hat = (2*x.mean())**2/(3*n)\n",
        "\n",
        "(a_hat - 100)/std_hat"
      ],
      "metadata": {
        "colab": {
          "base_uri": "https://localhost:8080/"
        },
        "id": "ftZWu08tFFay",
        "outputId": "e31add6d-9a1d-4fb2-cbef-752b820fae9c"
      },
      "execution_count": 84,
      "outputs": [
        {
          "output_type": "execute_result",
          "data": {
            "text/plain": [
              "1.7330764651371064"
            ]
          },
          "metadata": {},
          "execution_count": 84
        }
      ]
    },
    {
      "cell_type": "code",
      "source": [
        "asy_mean_test(a_hat, std_hat, mu_0=100, \n",
        "                   alpha=0.05, alternative='two-sided', margin=3)"
      ],
      "metadata": {
        "colab": {
          "base_uri": "https://localhost:8080/",
          "height": 357
        },
        "id": "s1GhOmUDG26B",
        "outputId": "51809ca6-1adf-41da-8437-bc24ae18305c"
      },
      "execution_count": 85,
      "outputs": [
        {
          "output_type": "execute_result",
          "data": {
            "text/plain": [
              "0.08308207881229634"
            ]
          },
          "metadata": {},
          "execution_count": 85
        },
        {
          "output_type": "display_data",
          "data": {
            "text/plain": [
              "<Figure size 720x360 with 1 Axes>"
            ],
            "image/png": "[encoded data removed]"
          },
          "metadata": {
            "needs_background": "light"
          }
        }
      ]
    },
    {
      "cell_type": "code",
      "source": [
        ""
      ],
      "metadata": {
        "id": "JNr8DAWdHgAu"
      },
      "execution_count": null,
      "outputs": []
    }
  ]
}