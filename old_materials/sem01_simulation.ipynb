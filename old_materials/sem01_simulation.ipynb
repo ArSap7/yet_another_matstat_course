{
  "nbformat": 4,
  "nbformat_minor": 0,
  "metadata": {
    "colab": {
      "name": "sem01_simulation.ipynb",
      "provenance": []
    },
    "kernelspec": {
      "name": "python3",
      "display_name": "Python 3"
    },
    "language_info": {
      "name": "python"
    }
  },
  "cells": [
    {
      "cell_type": "markdown",
      "source": [
        "# Как сгенерировать случайную величину? "
      ],
      "metadata": {
        "id": "mfT9X2BpvZSA"
      }
    },
    {
      "cell_type": "markdown",
      "source": [
        "__Тут будет клёвый список сериалов__\n",
        "\n",
        "- HIMYM\n",
        "- Клиника\n",
        "\n",
        "> Блок с отступами\n",
        "\n"
      ],
      "metadata": {
        "id": "qVOEkzDqwe8c"
      }
    },
    {
      "cell_type": "code",
      "source": [
        "import numpy as np \n",
        "import pandas as pd\n",
        "import matplotlib.pyplot as plt \n",
        "import seaborn as sns \n",
        "import scipy.stats as sts"
      ],
      "metadata": {
        "id": "Sy0MxZw1vZtd"
      },
      "execution_count": 7,
      "outputs": []
    },
    {
      "cell_type": "markdown",
      "source": [
        "$$\n",
        "X \\sim N(0,3)\n",
        "$$"
      ],
      "metadata": {
        "id": "o6VQZ37CyLUo"
      }
    },
    {
      "cell_type": "code",
      "source": [
        "norm_rv = sts.norm(loc=0, scale=3)\n",
        "\n",
        "x = norm_rv.rvs(1000, random_state=42)\n",
        "x.size"
      ],
      "metadata": {
        "colab": {
          "base_uri": "https://localhost:8080/"
        },
        "id": "L2NhHO1MyTSQ",
        "outputId": "c856ad98-adb2-459a-882f-70be6eaff948"
      },
      "execution_count": 27,
      "outputs": [
        {
          "output_type": "execute_result",
          "data": {
            "text/plain": [
              "1000"
            ]
          },
          "metadata": {},
          "execution_count": 27
        }
      ]
    },
    {
      "cell_type": "code",
      "source": [
        "x.mean()"
      ],
      "metadata": {
        "colab": {
          "base_uri": "https://localhost:8080/"
        },
        "id": "l4JKjJWryTYL",
        "outputId": "3d83dc2b-9d14-4490-b9ab-3e49b22ad88e"
      },
      "execution_count": 28,
      "outputs": [
        {
          "output_type": "execute_result",
          "data": {
            "text/plain": [
              "0.05799616746697647"
            ]
          },
          "metadata": {},
          "execution_count": 28
        }
      ]
    },
    {
      "cell_type": "code",
      "source": [
        "x.std()"
      ],
      "metadata": {
        "colab": {
          "base_uri": "https://localhost:8080/"
        },
        "id": "iqmTyh48zm3b",
        "outputId": "863cb62c-8476-4847-d4af-8b07b0e134e1"
      },
      "execution_count": 29,
      "outputs": [
        {
          "output_type": "execute_result",
          "data": {
            "text/plain": [
              "2.936178623242063"
            ]
          },
          "metadata": {},
          "execution_count": 29
        }
      ]
    },
    {
      "cell_type": "code",
      "source": [
        "plt.hist(x, bins=50);"
      ],
      "metadata": {
        "colab": {
          "base_uri": "https://localhost:8080/",
          "height": 265
        },
        "id": "TUO1RqXZzm9r",
        "outputId": "48818d61-19df-4252-9fa8-900c005d321b"
      },
      "execution_count": 30,
      "outputs": [
        {
          "output_type": "display_data",
          "data": {
            "text/plain": [
              "<Figure size 432x288 with 1 Axes>"
            ],
            "image/png": "[encoded data removed]"
          },
          "metadata": {
            "needs_background": "light"
          }
        }
      ]
    },
    {
      "cell_type": "code",
      "source": [
        "xq = np.linspace(-10, 10, 500)\n",
        "y = norm_rv.pdf(xq)\n",
        "\n",
        "plt.hist(x, bins=50, density=True, label='hist')\n",
        "plt.plot(xq, y, lw=3, label='N(0,3)')\n",
        "plt.legend();"
      ],
      "metadata": {
        "colab": {
          "base_uri": "https://localhost:8080/",
          "height": 265
        },
        "id": "lfDgIWgoznAI",
        "outputId": "94a6f1d7-471e-4efe-8156-e6977cddb371"
      },
      "execution_count": 37,
      "outputs": [
        {
          "output_type": "display_data",
          "data": {
            "text/plain": [
              "<Figure size 432x288 with 1 Axes>"
            ],
            "image/png": "[encoded data removed]"
          },
          "metadata": {
            "needs_background": "light"
          }
        }
      ]
    },
    {
      "cell_type": "code",
      "source": [
        "norm_rv = sts.norm(loc=0, scale=1)\n",
        "xq = np.linspace(-4, 4, 500)\n",
        "y = norm_rv.cdf(xq)\n",
        "\n",
        "plt.plot(xq, y)\n",
        "plt.plot([1, 1], [0, norm_rv.cdf(1)], ls='--', color='magenta')\n",
        "plt.plot([0, 1], [norm_rv.cdf(1), norm_rv.cdf(1)], ls='--', color='magenta')\n",
        "plt.plot([-1, -1], [0, norm_rv.cdf(-1)], ls='--', color='magenta')\n",
        "plt.plot([0, -1], [norm_rv.cdf(-1), norm_rv.cdf(-1)], ls='--', color='magenta');"
      ],
      "metadata": {
        "colab": {
          "base_uri": "https://localhost:8080/",
          "height": 265
        },
        "id": "ema9l2SH8oO4",
        "outputId": "4aef18ed-3303-4b15-e662-ff10a1e9b476"
      },
      "execution_count": 97,
      "outputs": [
        {
          "output_type": "display_data",
          "data": {
            "text/plain": [
              "<Figure size 432x288 with 1 Axes>"
            ],
            "image/png": "[encoded data removed]"
          },
          "metadata": {
            "needs_background": "light"
          }
        }
      ]
    },
    {
      "cell_type": "code",
      "source": [
        "norm_rv.cdf(-1) + norm_rv.cdf(1)"
      ],
      "metadata": {
        "colab": {
          "base_uri": "https://localhost:8080/"
        },
        "id": "P_-MkBVW9WFZ",
        "outputId": "5d50c7fa-ed52-461f-a024-162426bf3de7"
      },
      "execution_count": 102,
      "outputs": [
        {
          "output_type": "execute_result",
          "data": {
            "text/plain": [
              "1.0"
            ]
          },
          "metadata": {},
          "execution_count": 102
        }
      ]
    },
    {
      "cell_type": "markdown",
      "source": [
        "__Упражнение 1__\n",
        "\n",
        "- $\\mathbb{P}(X \\le -1) = F(-1)$\n",
        "- $\\mathbb{P}(X \\in [-5, -3]) = \\int_{-5}^{-3} f_X(t) dt = F(-3) - F(-5) = 1 - F(3) - (1 - F(5)) = F(5) - F(3)$"
      ],
      "metadata": {
        "id": "IWDQviyH0ik3"
      }
    },
    {
      "cell_type": "code",
      "source": [
        "norm_rv.cdf(-1)"
      ],
      "metadata": {
        "colab": {
          "base_uri": "https://localhost:8080/"
        },
        "id": "U1FfsBos0gfz",
        "outputId": "7b97a075-25f2-46d6-fc2c-33322ed5b7e8"
      },
      "execution_count": 38,
      "outputs": [
        {
          "output_type": "execute_result",
          "data": {
            "text/plain": [
              "0.36944134018176367"
            ]
          },
          "metadata": {},
          "execution_count": 38
        }
      ]
    },
    {
      "cell_type": "code",
      "source": [
        "norm_rv.cdf(-3) - norm_rv.cdf(-5)"
      ],
      "metadata": {
        "colab": {
          "base_uri": "https://localhost:8080/"
        },
        "id": "5ZpMHNw-y0TX",
        "outputId": "01548fe6-8501-40fa-bf5b-18d4ca0f43c9"
      },
      "execution_count": 39,
      "outputs": [
        {
          "output_type": "execute_result",
          "data": {
            "text/plain": [
              "0.11086490165864238"
            ]
          },
          "metadata": {},
          "execution_count": 39
        }
      ]
    },
    {
      "cell_type": "code",
      "source": [
        "(x < -1).mean()"
      ],
      "metadata": {
        "colab": {
          "base_uri": "https://localhost:8080/"
        },
        "id": "0ptnKQcQy0d2",
        "outputId": "c9fa6051-9502-41c7-8316-99c62fe31a11"
      },
      "execution_count": 42,
      "outputs": [
        {
          "output_type": "execute_result",
          "data": {
            "text/plain": [
              "0.368"
            ]
          },
          "metadata": {},
          "execution_count": 42
        }
      ]
    },
    {
      "cell_type": "markdown",
      "source": [
        "Что такое пакет: "
      ],
      "metadata": {
        "id": "N0tT9IKm1TTo"
      }
    },
    {
      "cell_type": "code",
      "source": [
        "np.pi"
      ],
      "metadata": {
        "colab": {
          "base_uri": "https://localhost:8080/"
        },
        "id": "lujYnxEixlgq",
        "outputId": "7dd3cb17-13ad-46c2-85a0-3a588bebf169"
      },
      "execution_count": 3,
      "outputs": [
        {
          "output_type": "execute_result",
          "data": {
            "text/plain": [
              "3.141592653589793"
            ]
          },
          "metadata": {},
          "execution_count": 3
        }
      ]
    },
    {
      "cell_type": "code",
      "source": [
        "np.cos(np.pi)"
      ],
      "metadata": {
        "colab": {
          "base_uri": "https://localhost:8080/"
        },
        "id": "RIuAsn7ExQSF",
        "outputId": "a10112a6-4604-4a40-a5f4-a1edb5966642"
      },
      "execution_count": 4,
      "outputs": [
        {
          "output_type": "execute_result",
          "data": {
            "text/plain": [
              "-1.0"
            ]
          },
          "metadata": {},
          "execution_count": 4
        }
      ]
    },
    {
      "cell_type": "code",
      "source": [
        "?np.mean"
      ],
      "metadata": {
        "id": "xrKJj6jMxozF"
      },
      "execution_count": 5,
      "outputs": []
    },
    {
      "cell_type": "markdown",
      "source": [
        "# ЗБЧ (Закон больших чисел) "
      ],
      "metadata": {
        "id": "CApZt3Vvv70Q"
      }
    },
    {
      "cell_type": "markdown",
      "source": [
        "Если $X_1, \\ldots X_n \\sim iid$ и $\\mathbb{E}(X_i) = \\mu$ и $\\mathbb{E}(X^2_i) < \\infty$, тогда \n",
        "\n",
        "$$\n",
        "\\frac{X_1 + \\ldots + X_n}{n} \\to \\mu\n",
        "$$\n",
        "\n",
        "Сходимость будет по вероятности. "
      ],
      "metadata": {
        "id": "rDi8RbRl1ZvL"
      }
    },
    {
      "cell_type": "code",
      "source": [
        "np.arange(1, 7)"
      ],
      "metadata": {
        "colab": {
          "base_uri": "https://localhost:8080/"
        },
        "id": "zABUpi7P3CKO",
        "outputId": "d17ce870-6d96-485c-dfd0-4212be5686b0"
      },
      "execution_count": 50,
      "outputs": [
        {
          "output_type": "execute_result",
          "data": {
            "text/plain": [
              "array([1, 2, 3, 4, 5, 6])"
            ]
          },
          "metadata": {},
          "execution_count": 50
        }
      ]
    },
    {
      "cell_type": "code",
      "source": [
        "x = np.random.randint(1, 7, size=(100, 5000))\n",
        "x = np.cumsum(x, axis=1)\n",
        "\n",
        "n = np.arange(1, x.shape[1] + 1)\n",
        "x = x/n\n",
        "x"
      ],
      "metadata": {
        "colab": {
          "base_uri": "https://localhost:8080/"
        },
        "id": "NUuWIot8wDh6",
        "outputId": "cc1340f6-328d-476f-d735-bf73e5d36998"
      },
      "execution_count": 88,
      "outputs": [
        {
          "output_type": "execute_result",
          "data": {
            "text/plain": [
              "array([[2.        , 3.        , 2.66666667, ..., 3.48039216, 3.4804961 ,\n",
              "        3.4806    ],\n",
              "       [6.        , 5.        , 4.        , ..., 3.50460184, 3.5045009 ,\n",
              "        3.5042    ],\n",
              "       [5.        , 5.5       , 5.66666667, ..., 3.47719088, 3.47729546,\n",
              "        3.477     ],\n",
              "       ...,\n",
              "       [2.        , 3.5       , 4.33333333, ..., 3.50820328, 3.5085017 ,\n",
              "        3.508     ],\n",
              "       [5.        , 3.5       , 2.66666667, ..., 3.5030012 , 3.50330066,\n",
              "        3.5038    ],\n",
              "       [3.        , 2.        , 2.66666667, ..., 3.46218487, 3.46189238,\n",
              "        3.4616    ]])"
            ]
          },
          "metadata": {},
          "execution_count": 88
        }
      ]
    },
    {
      "cell_type": "code",
      "source": [
        "plt.figure(figsize=(15,8))\n",
        "plt.axhline(y=3.5, color='r', linestyle='-')\n",
        "plt.plot(x.T, color='blue', alpha=0.1);"
      ],
      "metadata": {
        "colab": {
          "base_uri": "https://localhost:8080/",
          "height": 483
        },
        "id": "O6xBxpwpwELT",
        "outputId": "d644953a-864f-4d33-a76d-72d45bf8ece1"
      },
      "execution_count": 89,
      "outputs": [
        {
          "output_type": "display_data",
          "data": {
            "text/plain": [
              "<Figure size 1080x576 with 1 Axes>"
            ],
            "image/png": "[encoded data removed]"
          },
          "metadata": {
            "needs_background": "light"
          }
        }
      ]
    },
    {
      "cell_type": "markdown",
      "source": [
        "### Симуляции \n",
        "\n",
        "$$X_1 \\sim Poiss(3), X_2 \\sim Exp(0.1),  Y = X_1 + X_2^2$$\n",
        "\n",
        "$$\\mathbb{P}(Y > 0.5 \\mid X_1 < 3) = ?$$\n"
      ],
      "metadata": {
        "id": "rbc5kOMz6eBI"
      }
    },
    {
      "cell_type": "code",
      "source": [
        "x1 = sts.poisson(3).rvs(1000)\n",
        "x2 = sts.expon(scale=1/0.1).rvs(1000)\n",
        "y = x1 + x2**2\n",
        "\n",
        "(y[x1 < 3] > 0.5).mean()"
      ],
      "metadata": {
        "colab": {
          "base_uri": "https://localhost:8080/"
        },
        "id": "4_Jgt9mu-aZY",
        "outputId": "82b25cf7-a042-492c-9dd3-fc188d1433d2"
      },
      "execution_count": 125,
      "outputs": [
        {
          "output_type": "execute_result",
          "data": {
            "text/plain": [
              "0.9930715935334873"
            ]
          },
          "metadata": {},
          "execution_count": 125
        }
      ]
    },
    {
      "cell_type": "code",
      "source": [
        "(x1 < 3).sum()"
      ],
      "metadata": {
        "colab": {
          "base_uri": "https://localhost:8080/"
        },
        "id": "oeo9mBzA-ag3",
        "outputId": "d6f2c3cf-356f-4731-8483-096d1ff9e250"
      },
      "execution_count": 111,
      "outputs": [
        {
          "output_type": "execute_result",
          "data": {
            "text/plain": [
              "424"
            ]
          },
          "metadata": {},
          "execution_count": 111
        }
      ]
    },
    {
      "cell_type": "markdown",
      "source": [
        "Симуляции - это очень классно, но работает вообще не всегда... "
      ],
      "metadata": {
        "id": "5sULN_e-_Wz9"
      }
    },
    {
      "cell_type": "markdown",
      "source": [
        "$$ X \\sim N(0, 3), \\quad Y = \\frac{1}{1 + X^2}, \\quad \\mathbb{E}(Y) - ?$$"
      ],
      "metadata": {
        "id": "I5N0gu3a_6dy"
      }
    },
    {
      "cell_type": "code",
      "source": [
        "x = sts.norm(0,1).rvs(1000)\n",
        "y = 1/(1 + x**2)\n",
        "y.mean()"
      ],
      "metadata": {
        "colab": {
          "base_uri": "https://localhost:8080/"
        },
        "id": "UeTwVs-6_WQy",
        "outputId": "80efd431-c8a5-4376-9faa-99bc82f55f65"
      },
      "execution_count": 121,
      "outputs": [
        {
          "output_type": "execute_result",
          "data": {
            "text/plain": [
              "0.6572136256550432"
            ]
          },
          "metadata": {},
          "execution_count": 121
        }
      ]
    },
    {
      "cell_type": "markdown",
      "source": [
        "$$ X \\sim N(0, 3), \\quad Y = \\frac{1}{X}, \\quad \\mathbb{E}(Y) - ?$$"
      ],
      "metadata": {
        "id": "sbHq7EaIAIan"
      }
    },
    {
      "cell_type": "code",
      "source": [
        "x = sts.norm(0,1).rvs(1000)\n",
        "y = 1/x\n",
        "y.mean() # У распеделения Коши нет мат ожидания и поэтому при каждом запуске получается новое число (ЗБЧ не работает)"
      ],
      "metadata": {
        "colab": {
          "base_uri": "https://localhost:8080/"
        },
        "id": "p6cv1due_WGp",
        "outputId": "6b7a327d-ae89-420d-86d2-170a56bd282c"
      },
      "execution_count": 123,
      "outputs": [
        {
          "output_type": "execute_result",
          "data": {
            "text/plain": [
              "-2.7319454761064152"
            ]
          },
          "metadata": {},
          "execution_count": 123
        }
      ]
    },
    {
      "cell_type": "markdown",
      "source": [
        "### Про удава Анатолия\n",
        "\n"
      ],
      "metadata": {
        "id": "-eSoGsy-wEa7"
      }
    },
    {
      "cell_type": "markdown",
      "source": [
        "Удав Анатолий любит французские багеты. У него есть багет длиной 1 метр. Каждый укус Анатолия $X_i \\sim U[0,1]$. За сколько укусов в среднем Анатолий будет съедать Багет?"
      ],
      "metadata": {
        "id": "MHX9P6ugAt2V"
      }
    },
    {
      "cell_type": "code",
      "source": [
        "umiform_rv = sts.uniform(0,1)\n",
        "\n",
        "def ukus(l=1):\n",
        "    k = 0\n",
        "    while l > 0:\n",
        "        k += 1 # k = k + 1\n",
        "        l -= umiform_rv.rvs()\n",
        "    return k\n",
        "\n",
        "ukus()"
      ],
      "metadata": {
        "colab": {
          "base_uri": "https://localhost:8080/"
        },
        "id": "FBNC2YMGAuBZ",
        "outputId": "c7172047-5697-4993-a2f8-a05d3cf578ee"
      },
      "execution_count": 131,
      "outputs": [
        {
          "output_type": "execute_result",
          "data": {
            "text/plain": [
              "4"
            ]
          },
          "metadata": {},
          "execution_count": 131
        }
      ]
    },
    {
      "cell_type": "code",
      "source": [
        "# На самом деле E(N) = e\n",
        "np.mean([ukus() for i in range(10000)])"
      ],
      "metadata": {
        "colab": {
          "base_uri": "https://localhost:8080/"
        },
        "id": "lXdOJRsiCMNo",
        "outputId": "39a3df5a-8cfd-47c8-9935-639989014936"
      },
      "execution_count": 135,
      "outputs": [
        {
          "output_type": "execute_result",
          "data": {
            "text/plain": [
              "2.722"
            ]
          },
          "metadata": {},
          "execution_count": 135
        }
      ]
    },
    {
      "cell_type": "code",
      "source": [
        "np.mean([ukus(l=3) for i in range(1000)])"
      ],
      "metadata": {
        "colab": {
          "base_uri": "https://localhost:8080/"
        },
        "id": "oec-JOE0CWIh",
        "outputId": "c2d2a6f9-7eca-4de1-9e27-d564ffcc8333"
      },
      "execution_count": 134,
      "outputs": [
        {
          "output_type": "execute_result",
          "data": {
            "text/plain": [
              "6.629"
            ]
          },
          "metadata": {},
          "execution_count": 134
        }
      ]
    },
    {
      "cell_type": "markdown",
      "source": [
        "Ну да ну да... Есть табличные распределения вроде нормального, экспоненциального, бета-распределения... И их можно симулировать. А что делать, если у меня есть какое-то моё личное распрделение и я хочу его? \n",
        "\n",
        "Тогда вам поможет _Квантильное преобразование!_\n",
        "\n",
        "## Квантильное преобразование"
      ],
      "metadata": {
        "id": "rKP1HlHBC4CV"
      }
    },
    {
      "cell_type": "markdown",
      "source": [
        "__Упражнение 1__\n",
        "\n",
        "$$\n",
        "X \\sim N(0,1), \\quad Y = X^2, \\quad Y \\sim \\chi^2_1\n",
        "$$\n",
        "\n",
        "$$\n",
        "F_Y(y) = \\mathbb{P}(Y \\le y) = \\mathbb{P}(X^2 \\le y) = \\mathbb{P}(-\\sqrt{y} \\le X \\le \\sqrt{y}) = F_X(\\sqrt{y}) - F_X(-\\sqrt{y}) = F_X(\\sqrt{y}) - (1 - F_X(\\sqrt{y})) = 2F_X(\\sqrt{y}) - 1\n",
        "$$\n",
        "\n",
        "$$\n",
        "f_Y(y) = F'_Y(y) = 2f_X(\\sqrt{y})\\cdot \\frac{1}{\\sqrt{y}} = \\frac{2}{\\sqrt{2 \\pi y}} \\cdot e^{-\\frac{y}{2}}\n",
        "$$"
      ],
      "metadata": {
        "id": "oreIZWxx7NfS"
      }
    },
    {
      "cell_type": "markdown",
      "source": [
        "__Упражнение 2__\n",
        "\n",
        "$X \\sim$ как угодно\n",
        "\n",
        "$Y = F_X(X), \\quad Y \\sim ?$"
      ],
      "metadata": {
        "id": "-d-_Yblq-cKw"
      }
    },
    {
      "cell_type": "markdown",
      "source": [
        "$$\n",
        "F_Y(y) = \\mathbb{P}(Y \\le y) = \\mathbb{P}(F_X(X) \\le y) = \\mathbb{P}(X \\le F^{-1}(y)) = F(F^{-1}(y)) = y\n",
        "$$\n",
        "\n",
        "$$\n",
        "f_Y(y) = \\begin{cases} 1, y \\in [0;1] \\\\ 0, \\text{иначе} \\end{cases}\n",
        "$$\n",
        "\n"
      ],
      "metadata": {
        "id": "xgM35ok4DYng"
      }
    },
    {
      "cell_type": "markdown",
      "source": [
        "Да это же равномерное распределение! "
      ],
      "metadata": {
        "id": "4PzMvGR7EN3F"
      }
    },
    {
      "cell_type": "markdown",
      "source": [
        "Я хочу сгенерировать выборку из функции распределения $F(x) = 1 - e^{-x}, x \\ge 0$."
      ],
      "metadata": {
        "id": "W5O7udQzEX7G"
      }
    },
    {
      "cell_type": "markdown",
      "source": [
        "1. $Y \\sim U[0; 1]$\n",
        "2. $X = F^{-1}(Y)$\n",
        "\n",
        "Тогда $X \\sim F_X$"
      ],
      "metadata": {
        "id": "6V0YQWo4EhMd"
      }
    },
    {
      "cell_type": "code",
      "source": [
        "y = sts.uniform(0,1).rvs(1000)\n",
        "x = -np.log(1 - y)\n",
        "plt.hist(x, bins=100);"
      ],
      "metadata": {
        "colab": {
          "base_uri": "https://localhost:8080/",
          "height": 265
        },
        "id": "bOmoaxoN7M6Y",
        "outputId": "7a95cec2-5291-4529-f4a7-e24d7d5412c0"
      },
      "execution_count": 138,
      "outputs": [
        {
          "output_type": "display_data",
          "data": {
            "text/plain": [
              "<Figure size 432x288 with 1 Axes>"
            ],
            "image/png": "[encoded data removed]"
          },
          "metadata": {
            "needs_background": "light"
          }
        }
      ]
    },
    {
      "cell_type": "markdown",
      "source": [
        "# ЦПТ (Центральная предельная теорема) "
      ],
      "metadata": {
        "id": "_ZcxhIQGv_ud"
      }
    },
    {
      "cell_type": "code",
      "source": [
        "uniform_rvs = sts.uniform(0,1)\n",
        "\n",
        "x1 = uniform_rvs.rvs(10000)\n",
        "x2 = uniform_rvs.rvs(10000)\n",
        "x3 = uniform_rvs.rvs(10000)\n",
        "x4 = uniform_rvs.rvs(10000)\n",
        "x5 = uniform_rvs.rvs(10000)"
      ],
      "metadata": {
        "id": "wN9YpTuEvZyg"
      },
      "execution_count": 142,
      "outputs": []
    },
    {
      "cell_type": "code",
      "source": [
        "plt.hist(x1 + x2 + x3 + x4 + x5, bins=100);"
      ],
      "metadata": {
        "colab": {
          "base_uri": "https://localhost:8080/",
          "height": 265
        },
        "id": "w9gyXEa4vZ1H",
        "outputId": "18541f9a-8de8-48ce-c962-0e734cbb7b49"
      },
      "execution_count": 147,
      "outputs": [
        {
          "output_type": "display_data",
          "data": {
            "text/plain": [
              "<Figure size 432x288 with 1 Axes>"
            ],
            "image/png": "[encoded data removed]"
          },
          "metadata": {
            "needs_background": "light"
          }
        }
      ]
    }
  ]
}