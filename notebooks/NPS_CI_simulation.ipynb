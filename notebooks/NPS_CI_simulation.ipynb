{
 "cells": [
  {
   "cell_type": "markdown",
   "id": "7ee14f16",
   "metadata": {},
   "source": [
    "# NPS\n",
    "\n",
    "В этой тетрадке мы построим доверительный интервал для NPS. \n",
    "\n",
    "**NPS (Net Promoter Score)** — индекс потребительской лояльности, основанный на готовности рекомендовать продукт/услугу/сервис/бренд. Работает в качестве показателя, помогающего предсказать приток новых клиентов, пользователей в будущем. Часто воспринимается как основной или один из основных показателей отношения клиентов и пользователей к товарам, услугам, брендам. Также используется для оценки своего положения в конкурентном окружении.\n",
    "\n",
    "Задается всего 1 вопрос о готовности рекомендовать товар/услугу/сервис другим людям, которую просят оценить по 11-ти бальной шкале (от 0 до 10).\n",
    "\n",
    "Затем оценивших такую готовность от 0 до 6 причисляют к критикам (или детракторам), 7-8 - к нейтралам (или пассивам, т.е. пассивно удовлетворенным), а 9-10 - к сторонникам или промоутерам (т.е. готовым активно рекомендовать).\n",
    "Затем процент критиков вычитают из процента сторонников. Полученное число считается индексом NPS.\n",
    "\n",
    "<br>\n",
    "\n",
    "<center>\n",
    "<img src=\"images/nps_calc.png\" width=\"900\"> \n",
    "</center>\n",
    "\n",
    "<br>\n",
    "\n",
    "Эту метрику [считают в куче отраслей.](https://www.retently.com/blog/good-net-promoter-score/)\n",
    "\n",
    "__Возникает вопрос:__ как для этой метрики считать доверительные интервалы и проверять гипотезы? "
   ]
  },
  {
   "cell_type": "code",
   "execution_count": 1,
   "id": "977ff64a",
   "metadata": {},
   "outputs": [],
   "source": [
    "import numpy as np\n",
    "import scipy.stats as sts"
   ]
  },
  {
   "cell_type": "markdown",
   "id": "6ebc5cd6",
   "metadata": {},
   "source": [
    "## Доверительный интервал для разности долей\n",
    "\n",
    "Давайте на примере кликов по дум баннерам выведем формулу для асимптотического доверительного интервала между двумя долями. Представим себе товар, который нужно рекламировать. Для этих целей используется рекламный баннер. Если появляется новый баннер, который кажется более красивым, то возникает необходимость проверить, какой из баннеров лучше, а также понять, насколько новый баннер красивее первого. \n",
    "\n",
    "В нашем распоряжении есть выборка из кликов по первому банеру, $X$ и по второму банеру, $Y$.\n",
    "\n",
    "$$\n",
    "\\begin{aligned}\n",
    "X_1, \\ldots, X_{n_1} \\sim iid \\hspace{1mm} Bern(p_1) \\\\\n",
    "Y_1, \\ldots, Y_{n_2} \\sim iid \\hspace{1mm} Bern(p_2)\n",
    "\\end{aligned}\n",
    "$$\n",
    "\n",
    "Мы можем найти оценки для обеих вероятностей через средние. Оба средних будут иметь асимптотически нормальные распределения со своими параметрами: \n",
    "\n",
    "$$\n",
    "\\begin{aligned}\n",
    "\\hat p_1 = \\bar x \\sim N \\left(p_1, \\frac{p_1 \\cdot (1-p_1)}{n_1} \\right)\\\\\n",
    "\\hat p_2 = \\bar y \\sim N \\left(p_2, \\frac{p_2 \\cdot (1-p_2)}{n_2} \\right)\n",
    "\\end{aligned}\n",
    "$$\n",
    "\n",
    "Если выборки независимы, разность долей будет тоже иметь асимптотически нормальное распределение: \n",
    "\n",
    "$$\n",
    "\\hat p_1 - \\hat p_2  \\sim N \\left(p_1 - p_2, \\frac{p_1(1-p_1)}{n_1} + \\frac{p_2(1-p_2)}{n_2} \\right).\n",
    "$$\n",
    "\n",
    "Отсюда можно легко найти доверительный интервал для разности долей: \n",
    "\n",
    "$$\n",
    "\\hat{p}_1 - \\hat{p}_2 \\pm z_{1-\\frac{\\alpha}{2}}\\sqrt{\\frac{\\hat{p}_1(1 - \\hat{p}_1)}{n_1} + \\frac{\\hat{p}_2(1 - \\hat{p}_2)}{n_2}}\n",
    "$$\n"
   ]
  },
  {
   "cell_type": "markdown",
   "id": "2302b816",
   "metadata": {},
   "source": [
    "Применим эту логику к разнице между долей промоутеров и детракторов\n",
    "\n",
    "> И жёстко облажаемся, потому что выборки в случае NPS зависимы\n"
   ]
  },
  {
   "cell_type": "code",
   "execution_count": 2,
   "id": "2bb9df80",
   "metadata": {},
   "outputs": [],
   "source": [
    "# -1 детрактор\n",
    "# 0 промоутер\n",
    "# 1 нейтрал\n",
    "\n",
    "choises = np.array([-1, 0, 1]) \n",
    "probability = np.array([0.2, 0.5, 0.3])"
   ]
  },
  {
   "cell_type": "code",
   "execution_count": 3,
   "id": "ba4a0bbc",
   "metadata": {},
   "outputs": [
    {
     "data": {
      "text/plain": [
       "0.09999999999999998"
      ]
     },
     "execution_count": 3,
     "metadata": {},
     "output_type": "execute_result"
    }
   ],
   "source": [
    "real_diff = probability[-1] - probability[0]\n",
    "real_diff"
   ]
  },
  {
   "cell_type": "code",
   "execution_count": 4,
   "id": "06ffb084",
   "metadata": {},
   "outputs": [
    {
     "data": {
      "text/plain": [
       "array([[ 1,  0,  0, ...,  1,  1,  1],\n",
       "       [ 0,  0,  0, ...,  0,  0, -1],\n",
       "       [ 1,  0,  0, ...,  0, -1,  1],\n",
       "       ...,\n",
       "       [ 0, -1,  1, ...,  0,  0,  1],\n",
       "       [ 0,  1,  0, ...,  1,  1,  0],\n",
       "       [ 0, -1,  0, ...,  0,  0,  0]])"
      ]
     },
     "execution_count": 4,
     "metadata": {},
     "output_type": "execute_result"
    }
   ],
   "source": [
    "n_sample = 10**3 # размер выборки \n",
    "n_obs = 10**5    # число экспериментов\n",
    "\n",
    "smpl = np.random.choice(choises, p=probability, replace=True, size=(n_obs, n_sample))\n",
    "smpl"
   ]
  },
  {
   "cell_type": "code",
   "execution_count": 5,
   "id": "a9ce10d9",
   "metadata": {},
   "outputs": [
    {
     "data": {
      "text/plain": [
       "(100000, 1000)"
      ]
     },
     "execution_count": 5,
     "metadata": {},
     "output_type": "execute_result"
    }
   ],
   "source": [
    "smpl.shape"
   ]
  },
  {
   "cell_type": "code",
   "execution_count": 6,
   "id": "0299b285",
   "metadata": {},
   "outputs": [],
   "source": [
    "def get_norm_ci(sample, alpha):\n",
    "    \"\"\"\n",
    "        Строит нормальный асимптотический \n",
    "        доверительный интервал для разности долей \n",
    "    \"\"\"\n",
    "    \n",
    "    p_prom = (smpl == 1).mean(axis=1)\n",
    "    p_detr = (smpl == -1).mean(axis=1)\n",
    "    \n",
    "    std_prom = p_prom * (1 - p_prom)/n_sample\n",
    "    std_detr = p_detr * (1 - p_detr)/n_sample\n",
    "\n",
    "    diff = p_prom - p_detr\n",
    "    diff_std = np.sqrt(std_prom + std_detr)\n",
    "    \n",
    "    z_alpha = sts.norm().ppf(1 - alpha/2)\n",
    "    left = diff - z_alpha * diff_std\n",
    "    right = diff + z_alpha * diff_std\n",
    "    return left, right"
   ]
  },
  {
   "cell_type": "code",
   "execution_count": 7,
   "id": "262e0779",
   "metadata": {},
   "outputs": [],
   "source": [
    "def conf_int_simulation(sample, alpha, get_conf_int, real_diff=real_diff):\n",
    "    \"\"\"\n",
    "        Подсчитываем вероятность попадания в доверительный\n",
    "        интервал реального NPS\n",
    "    \"\"\"\n",
    "    left, right = get_conf_int(sample, alpha)\n",
    "    return np.mean((left < real_diff)&(real_diff < right))"
   ]
  },
  {
   "cell_type": "code",
   "execution_count": 8,
   "id": "dbabaf1a",
   "metadata": {},
   "outputs": [
    {
     "data": {
      "text/plain": [
       "0.91315"
      ]
     },
     "execution_count": 8,
     "metadata": {},
     "output_type": "execute_result"
    }
   ],
   "source": [
    "conf_int_simulation(smpl, 0.05, get_norm_ci)"
   ]
  },
  {
   "cell_type": "code",
   "execution_count": 9,
   "id": "b697775b",
   "metadata": {},
   "outputs": [
    {
     "data": {
      "text/plain": [
       "0.97611"
      ]
     },
     "execution_count": 9,
     "metadata": {},
     "output_type": "execute_result"
    }
   ],
   "source": [
    "conf_int_simulation(smpl, 0.01, get_norm_ci)"
   ]
  },
  {
   "cell_type": "code",
   "execution_count": 10,
   "id": "5b1144dd",
   "metadata": {},
   "outputs": [
    {
     "data": {
      "text/plain": [
       "0.44143"
      ]
     },
     "execution_count": 10,
     "metadata": {},
     "output_type": "execute_result"
    }
   ],
   "source": [
    "conf_int_simulation(smpl, 0.5, get_norm_ci)"
   ]
  },
  {
   "cell_type": "markdown",
   "id": "3f0bdcbd",
   "metadata": {},
   "source": [
    "Все три эксперемента выдают вероятность покрыть неизвыстный NPS ниже, чем $1 - \\alpha$. Это происходит из-за того, что число детракторов коррелирует с числом промоутеров. "
   ]
  },
  {
   "cell_type": "code",
   "execution_count": 11,
   "id": "8e80ab30",
   "metadata": {},
   "outputs": [
    {
     "data": {
      "text/plain": [
       "-0.32009548962079204"
      ]
     },
     "execution_count": 11,
     "metadata": {},
     "output_type": "execute_result"
    }
   ],
   "source": [
    "p_prom = (smpl == 1).mean(axis=1)\n",
    "p_detr = (smpl == -1).mean(axis=1)\n",
    "np.corrcoef(p_prom, p_detr)[0,1]"
   ]
  },
  {
   "cell_type": "markdown",
   "id": "f8bd3c5a",
   "metadata": {},
   "source": [
    "## Доверительный интервал для NPS\n",
    "\n",
    "Дисперсию надо корректировать на эту корреляцию:\n",
    "\n",
    "$$\n",
    "\\text{Var}(NPS) = \\frac{\\hat p_{L} \\cdot (1 - \\hat p_{L})}{n} + \\frac{\\hat p_{D} \\cdot (1 - \\hat p_{D})}{n} + 2 \\cdot \\frac{\\hat p_{L} \\cdot \\hat p_{D}}{n}.\n",
    "$$\n",
    "\n",
    "Здесть $p_L$ и $p_D$ это доли промоутеров и детракторов. Давайте проведём симуляции с новой формулой, а чуть ниже выведем её."
   ]
  },
  {
   "cell_type": "code",
   "execution_count": 12,
   "id": "4ce90ccd",
   "metadata": {},
   "outputs": [],
   "source": [
    "def get_nps_correct_ci(sample, alpha):\n",
    "    \"\"\"\n",
    "        Строит скорректированный интервал \n",
    "    \"\"\"\n",
    "    P_cnt = (smpl == 1).sum(axis=1)  # число промоутеров\n",
    "    D_cnt = (smpl == -1).sum(axis=1) # число детракторов\n",
    "    N_cnt = (smpl == 0).sum(axis=1)  # число нейтралов\n",
    "    n = smpl.shape[1]                # всего респондентов\n",
    "    \n",
    "    NPS_hat = (P_cnt - D_cnt)/n\n",
    "    \n",
    "    diff_var = 1/n * (P_cnt/n*(1 - P_cnt/n) + D_cnt/n*(1 - D_cnt/n) + 2* P_cnt/n * D_cnt/n)\n",
    "    diff_std = np.sqrt(diff_var)\n",
    "\n",
    "    z_alpha = sts.norm().ppf(1 - alpha/2)\n",
    "    left = NPS_hat - z_alpha * diff_std\n",
    "    right = NPS_hat + z_alpha * diff_std\n",
    "    return left, right"
   ]
  },
  {
   "cell_type": "code",
   "execution_count": 13,
   "id": "12ebe958",
   "metadata": {},
   "outputs": [
    {
     "data": {
      "text/plain": [
       "0.95137"
      ]
     },
     "execution_count": 13,
     "metadata": {},
     "output_type": "execute_result"
    }
   ],
   "source": [
    "conf_int_simulation(smpl, 0.05, get_nps_correct_ci)    "
   ]
  },
  {
   "cell_type": "code",
   "execution_count": 14,
   "id": "7d8064a0",
   "metadata": {},
   "outputs": [
    {
     "data": {
      "text/plain": [
       "0.99062"
      ]
     },
     "execution_count": 14,
     "metadata": {},
     "output_type": "execute_result"
    }
   ],
   "source": [
    "conf_int_simulation(smpl, 0.01, get_nps_correct_ci)    "
   ]
  },
  {
   "cell_type": "code",
   "execution_count": 15,
   "id": "f22e18ab",
   "metadata": {},
   "outputs": [
    {
     "data": {
      "text/plain": [
       "0.49933"
      ]
     },
     "execution_count": 15,
     "metadata": {},
     "output_type": "execute_result"
    }
   ],
   "source": [
    "conf_int_simulation(smpl, 0.5, get_nps_correct_ci)    "
   ]
  },
  {
   "cell_type": "markdown",
   "id": "d5491269",
   "metadata": {},
   "source": [
    "Надёжность доверительных интервалов оказывается на заявленном уровне. Докажем формулу."
   ]
  },
  {
   "cell_type": "markdown",
   "id": "c97d5e1a",
   "metadata": {},
   "source": [
    "Пусть $N$ — число нейтралов, $L$ — число промоутеров, $D$ — число детракторов, $n$ — число наблюдений, $NPS$ вычисляется по формуле \n",
    "\n",
    "$$\n",
    "NPS = \\frac{L - D}{n} = \\hat p_L - \\hat p_D\n",
    "$$\n",
    "\n",
    "Значит \n",
    "\n",
    "$$\n",
    "\\text{Var}(NPS) = \\text{Var} (\\hat p_L - \\hat p_D) = \\text{Var} (\\hat p_L) + \\text{Var} (\\hat p_D) - 2 \\cdot \\text{Cov}(\\hat p_L, \\hat p_D) = \\frac{p_L (1 - p_L)}{n} + \\frac{p_D (1 - p_D)}{n} - 2 \\cdot \\text{Cov}(\\hat p_L, \\hat p_D).\n",
    "$$"
   ]
  },
  {
   "cell_type": "markdown",
   "id": "d70b7ec8",
   "metadata": {},
   "source": [
    "Найдём ковариацию\n",
    "\n",
    "$$\n",
    "\\text{Cov}(\\hat p_L, \\hat p_D) = \\text{Cov}\\left( \\frac{L}{n}, \\frac{D}{n} \\right) = \\frac{1}{n^2}\\text{Cov}\\left(L, D \\right)\n",
    "$$\n",
    "\n",
    "Воспользуемся для поиска ковариации тем, что $N + P + D = n$\n",
    "\n",
    "$$\n",
    "\\text{Cov}(L + N + D, L) = 0 \\Rightarrow \\text{Var}(L) + \\text{Cov}(L, N) + \\text{Cov}(L, D) = 0\n",
    "$$\n",
    "\n",
    "По аналогии можно выписать уравнение для $D$ и $N$, получится система уравнений\n",
    "\n",
    "\\begin{equation*}\n",
    "    \\begin{cases}\n",
    "      \\text{Var}(L) + \\text{Cov}(L, N) + \\text{Cov}(L, D) = 0 \\\\\n",
    "      \\text{Var}(D) + \\text{Cov}(N, D) + \\text{Cov}(L, D) = 0 \\\\\n",
    "      \\text{Var}(N) + \\text{Cov}(L, N) + \\text{Cov}(N, D) = 0 \\\\\n",
    "    \\end{cases}\n",
    "\\end{equation*}\n",
    "\n",
    "Решаем её и получаем\n",
    "\n",
    "\\begin{equation*}\n",
    "    \\begin{aligned}\n",
    "        & \\text{Cov}(L, N) = \\frac{-\\text{Var}(L) + \\text{Var}(D) - \\text{Var}(N)}{2} \\\\\n",
    "        & \\text{Cov}(N, D) = \\frac{\\text{Var}(L) - \\text{Var}(D) - \\text{Var}(N) }{2} \\\\\n",
    "        & \\text{Cov}(L, D) = \\frac{-\\text{Var}(L) - \\text{Var}(D) + \\text{Var}(N) }{2} \\\\\n",
    "    \\end{aligned}\n",
    "\\end{equation*}"
   ]
  },
  {
   "cell_type": "markdown",
   "id": "484d30b4",
   "metadata": {},
   "source": [
    "Подставим значение дисперсий\n",
    "\n",
    "$$\n",
    "\\text{Cov}(L, D) = \\frac{-\\text{Var}(L) - \\text{Var}(D) + \\text{Var}(N) }{2} = \\frac{n}{2} \\cdot (- p_D \\cdot (1 -  p_D) + p_N \\cdot (1 -  p_N) - p_L \\cdot (1 - p_L))\n",
    "$$"
   ]
  },
  {
   "cell_type": "markdown",
   "id": "9d5f5913",
   "metadata": {},
   "source": [
    "Вспомним, что $p_N = 1 - p_L -  p_D$ и раскроем скобки, получим\n",
    "\n",
    "$$\n",
    "\\text{Cov}(L, D) = -n \\cdot p_L \\cdot p_D.\n",
    "$$\n",
    "\n",
    "Подставим в формулу дисперсии\n",
    "\n",
    "$$\n",
    "\\text{Var}(NPS) = \\frac{p_L (1 - p_L)}{n} + \\frac{p_D (1 - p_D)}{n} - 2 \\cdot \\frac{-n \\cdot p_L \\cdot p_D}{n^2}\n",
    "$$\n",
    "\n",
    "Заменим вероятности на их оценки и получим требуемую формулу\n",
    "\n",
    "$$\n",
    "\\text{Var}(NPS) = \\frac{\\hat p_L (1 - \\hat p_L)}{n} + \\frac{\\hat p_D (1 - \\hat p_D)}{n} + \\frac{2 \\cdot  \\hat p_L \\cdot \\hat p_D}{n}\n",
    "$$"
   ]
  }
 ],
 "metadata": {
  "kernelspec": {
   "display_name": "Python 3 (ipykernel)",
   "language": "python",
   "name": "python3"
  },
  "language_info": {
   "codemirror_mode": {
    "name": "ipython",
    "version": 3
   },
   "file_extension": ".py",
   "mimetype": "text/x-python",
   "name": "python",
   "nbconvert_exporter": "python",
   "pygments_lexer": "ipython3",
   "version": "3.10.9"
  }
 },
 "nbformat": 4,
 "nbformat_minor": 5
}
