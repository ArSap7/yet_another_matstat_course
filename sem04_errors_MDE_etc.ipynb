{
  "nbformat": 4,
  "nbformat_minor": 0,
  "metadata": {
    "colab": {
      "name": "Untitled34.ipynb",
      "provenance": []
    },
    "kernelspec": {
      "name": "python3",
      "display_name": "Python 3"
    },
    "language_info": {
      "name": "python"
    }
  },
  "cells": [
    {
      "cell_type": "markdown",
      "source": [
        "# АБ-тестирование на основе ЦПТ"
      ],
      "metadata": {
        "id": "UAjZIN2k00IU"
      }
    },
    {
      "cell_type": "code",
      "source": [
        "import numpy as np\n",
        "import pandas as pd\n",
        "from scipy import stats\n",
        "import seaborn as sns\n",
        "import matplotlib.pyplot as plt\n",
        "\n",
        "plt.style.use('ggplot')\n",
        "%matplotlib inline\n",
        "\n",
        "\n",
        "def asy_mean_test(mean_hat, std_hat, mu_0=0, \n",
        "                   alpha=0.05, alternative='two-sided', margin=3):\n",
        "    \"\"\"\n",
        "        Асимптотический тест для равенства средних\n",
        "    \"\"\"\n",
        "    \n",
        "    z_obs = (mean_hat - mu_0)/std_hat\n",
        "    \n",
        "    if alternative == 'two-sided':\n",
        "        p_value = 2 * (1 - stats.norm().cdf(np.abs(z_obs)))\n",
        "        z_crit = stats.norm().ppf(1 - alpha/2)\n",
        "        \n",
        "        statistics = ['-z_crit', 'z_crit', '-z_obs', 'z_obs']\n",
        "        params = dict(zip(statistics, [(-z_crit, -0.6, -margin, -z_crit, 'b'), \n",
        "                                       (z_crit, 0.05, z_crit, margin, 'b'),\n",
        "                                       (-z_obs, -0.6, -margin, -z_obs, 'r'), \n",
        "                                       (z_obs, 0.1, z_obs, margin, 'r')]))\n",
        "    \n",
        "    if alternative == 'less':\n",
        "        p_value = stats.norm().cdf(z_obs)\n",
        "        z_crit = stats.norm().ppf(1 - alpha)\n",
        "        \n",
        "        statistics = ['-z_crit', '-z_obs']\n",
        "        params = dict(zip(statistics, [(-z_crit, -0.6, -margin, -z_crit, 'b'), \n",
        "                                       (-z_obs, -0.6, -margin, -z_obs, 'r')]))\n",
        "\n",
        "    if alternative == 'larger':\n",
        "        p_value = 1 - stats.norm().cdf(z_obs)\n",
        "        z_crit = stats.norm().ppf(1 - alpha)\n",
        "        \n",
        "        statistics = ['z_crit', 'z_obs']\n",
        "        params = dict(zip(statistics, [(z_crit, 0.05, z_crit, margin, 'b'),\n",
        "                                       (z_obs, 0.1, z_obs, margin, 'r')]))\n",
        "    \n",
        "    \n",
        "    plt.figure(figsize = (10, 5))\n",
        "    x = np.linspace(-margin, margin)\n",
        "    pdf = stats.norm().pdf(x)\n",
        "\n",
        "    plt.plot(x, pdf, color=\"black\")\n",
        "    plt.ylabel(\"$f(x)$\", fontsize=16)\n",
        "    plt.xlabel(\"$x$\", fontsize=16)\n",
        "    y_max = plt.ylim()[1]\n",
        "    \n",
        "    for i in range(len(statistics)):\n",
        "        statistic, text_margin, left_bound, right_bound, color = params[statistics[i]]\n",
        "        \n",
        "        plt.axvline(statistic, color=color, linestyle=\"--\", lw=2)\n",
        "        h = 0.8 if statistics[i].split('_')[-1] == 'crit' else 0.6\n",
        "        plt.text(statistic + text_margin, \n",
        "                 h*y_max, round(statistic, 2), color=color, fontsize=16)\n",
        "        \n",
        "        xq = np.linspace(left_bound, right_bound)\n",
        "        yq = stats.norm().pdf(xq)\n",
        "        plt.fill_between(xq, 0, yq, color=color, alpha=0.2)\n",
        "    \n",
        "    return p_value"
      ],
      "metadata": {
        "id": "DwjPzQrD8C1X"
      },
      "execution_count": 24,
      "outputs": []
    },
    {
      "cell_type": "markdown",
      "source": [
        "Есть Винни-Пух и он торгует мёдом. Винни-пух решил проверить что произойдет в его онлайн-магазине с покупками, если он сделает редизайн сайта. Редизайн ему подсказали UX-исследователи. Теперь ВП хочет проверить что будет с конверсиями пользователей в покупки. \n",
        "\n",
        "- Treatment: $p_T$ - ей он показывает новый сайт $(5\\% от всех пользователей)$\n",
        "- Conrol: $p_C$ - ей он показывает старый сайт \n",
        "\n",
        "$H_0: p_T - p_C = 0$\n",
        "\n",
        "$H_A: p_T - p_C > 0$"
      ],
      "metadata": {
        "id": "TXnEejjI1MKk"
      }
    },
    {
      "cell_type": "markdown",
      "source": [
        "__1. Эксперимент__ \n",
        "\n",
        "Предпосылки теста:\n",
        "\n",
        "- Мы должны отдавать себе отчёт, что все наблюдения должны быть независимы и одинаково распределены, чтобы тест на основе ЦПТ работал.\n",
        "- Много наблюдений, мы работаем с биг-датой.\n",
        "- У наших наблюдений конечная дисперсия (ни одно из наблюдений особо сильно не выделяется на фоне всех остальных). Иначе говоря у нас нес выбросов в данных. \n",
        "\n",
        "\n",
        "\n",
        "__2. Союзник:__\n",
        "\n",
        "\n",
        "\n",
        "$$\n",
        "\\bar X_n \\overset{asy}{\\sim} N \\left( \\mathbb{E}(X_i), \\frac{Var(X_i)}{n} \\right)\n",
        "$$\n",
        "\n",
        "__3. Данные и модель:__\n",
        "\n",
        "Две выборки независят друг от друга, так как пользователь случайно относится к одной из двух групп. \n",
        "\n",
        "\\begin{equation*}\n",
        "    \\begin{aligned}\n",
        "         & X^c_1, \\ldots, X^c_{n_c} \\sim idd \\quad Bern(p_c) \\\\\n",
        "         & X^T_1, \\ldots, X^T_{n_T} \\sim idd \\quad Bern(p_T) \n",
        "    \\end{aligned}\n",
        "\\end{equation*}\n",
        "\n",
        "__4. Критерий для проверки__\n",
        "\n",
        "С помощью ЦПТ я могу выписать следующую логику: \n",
        "\n",
        "\\begin{equation*}\n",
        "    \\begin{aligned}\n",
        "        & \\bar X_{n_c} = \\hat p_c \\overset{asy}{\\sim} N \\left( p_c, \\frac{ p_c\\cdot (1 - p_c)}{n_c} \\right) \\approx  N \\left( p_c, \\frac{ \\hat p_c\\cdot (1 - \\hat p_c)}{n_c} \\right)  \\\\\n",
        "        & \\bar X_{n_T} = \\hat p_T \\overset{asy}{\\sim} N \\left( p_T, \\frac{ p_T\\cdot (1 - p_T)}{n_T} \\right) \\approx N \\left( p_T, \\frac{ \\hat p_T\\cdot (1 - \\hat p_T)}{n_T} \\right)\n",
        "    \\end{aligned}\n",
        "\\end{equation*}"
      ],
      "metadata": {
        "id": "f1FWS35p2MF3"
      }
    },
    {
      "cell_type": "markdown",
      "source": [
        "$$\n",
        "\\hat p_c - \\hat p_T \\overset{asy}{\\sim} N \\left( p_c - p_T, \\frac{ \\hat p_c\\cdot (1 - \\hat p_c)}{n_c} + \\frac{ \\hat p_T \\cdot (1 - \\hat p_T)}{n_T}  \\right)\n",
        "$$"
      ],
      "metadata": {
        "id": "zvh6GB1O6bBt"
      }
    },
    {
      "cell_type": "markdown",
      "source": [
        "А дальше мы говорим: \"А пусть у нас верна нулевая гипотеза, мы верим в статус-кво и нам нужны доказательства что он нарушен\".\n",
        "\n",
        "$$\n",
        "\\hat p_c - \\hat p_T \\underset{H_0}{\\overset{asy}{\\sim}} N \\left(0, \\frac{ \\hat p_c\\cdot (1 - \\hat p_c)}{n_c} + \\frac{ \\hat p_T \\cdot (1 - \\hat p_T)}{n_T}  \\right)\n",
        "$$\n",
        "\n",
        "$$\n",
        "Z = \\frac{\\hat p_c - \\hat p_T}{ \\sqrt{ \\frac{\\hat p_c\\cdot (1 - \\hat p_c)}{n_c} + \\frac{ \\hat p_T \\cdot (1 - \\hat p_T)}{n_T}}} \\underset{H_0}{\\overset{asy}{\\sim}} N (0, 1)\n",
        "$$\n",
        "\n"
      ],
      "metadata": {
        "id": "K5b9P5497Cx7"
      }
    },
    {
      "cell_type": "markdown",
      "source": [
        "Ечли у нас наблюдаемое значение $z_{obs}$ оказывается в хвосте распределения, это означает что расстоение между долями очень большое. Видимо, разница между ними действительно есть. "
      ],
      "metadata": {
        "id": "7XT5fmdZ7zDq"
      }
    },
    {
      "cell_type": "code",
      "source": [
        "df = pd.read_csv('https://raw.githubusercontent.com/FUlyankin/matstat_coursera/main/week09_hypo/data/matan.csv', sep='\\t')\n",
        "df.dropna(inplace=True)\n",
        "df.shape"
      ],
      "metadata": {
        "colab": {
          "base_uri": "https://localhost:8080/"
        },
        "id": "viuRIGr806ON",
        "outputId": "e4490fa7-26ab-4eab-cfef-fd7f9846885e"
      },
      "execution_count": 25,
      "outputs": [
        {
          "output_type": "execute_result",
          "data": {
            "text/plain": [
              "(348, 2)"
            ]
          },
          "metadata": {},
          "execution_count": 25
        }
      ]
    },
    {
      "cell_type": "code",
      "source": [
        "df.is_angry.value_counts()"
      ],
      "metadata": {
        "colab": {
          "base_uri": "https://localhost:8080/"
        },
        "id": "ICCmC5f88kct",
        "outputId": "28badc75-266e-4c2d-c909-cc07e9efd800"
      },
      "execution_count": 26,
      "outputs": [
        {
          "output_type": "execute_result",
          "data": {
            "text/plain": [
              "0    208\n",
              "1    140\n",
              "Name: is_angry, dtype: int64"
            ]
          },
          "metadata": {},
          "execution_count": 26
        }
      ]
    },
    {
      "cell_type": "code",
      "source": [
        "df_agg = df.groupby('is_angry')['target_1'].agg(['mean', 'sum', 'count'])\n",
        "df_agg"
      ],
      "metadata": {
        "colab": {
          "base_uri": "https://localhost:8080/",
          "height": 143
        },
        "id": "eDdhGhte8who",
        "outputId": "49e1de5f-0770-45df-fbf3-850d011115f4"
      },
      "execution_count": 30,
      "outputs": [
        {
          "output_type": "execute_result",
          "data": {
            "text/plain": [
              "              mean    sum  count\n",
              "is_angry                        \n",
              "0         0.721154  150.0    208\n",
              "1         0.735714  103.0    140"
            ],
            "text/html": [
              "\n",
              "  <div id=\"df-1a6a51d7-c326-48fe-b39b-75d6a207c862\">\n",
              "    <div class=\"colab-df-container\">\n",
              "      <div>\n",
              "<style scoped>\n",
              "    .dataframe tbody tr th:only-of-type {\n",
              "        vertical-align: middle;\n",
              "    }\n",
              "\n",
              "    .dataframe tbody tr th {\n",
              "        vertical-align: top;\n",
              "    }\n",
              "\n",
              "    .dataframe thead th {\n",
              "        text-align: right;\n",
              "    }\n",
              "</style>\n",
              "<table border=\"1\" class=\"dataframe\">\n",
              "  <thead>\n",
              "    <tr style=\"text-align: right;\">\n",
              "      <th></th>\n",
              "      <th>mean</th>\n",
              "      <th>sum</th>\n",
              "      <th>count</th>\n",
              "    </tr>\n",
              "    <tr>\n",
              "      <th>is_angry</th>\n",
              "      <th></th>\n",
              "      <th></th>\n",
              "      <th></th>\n",
              "    </tr>\n",
              "  </thead>\n",
              "  <tbody>\n",
              "    <tr>\n",
              "      <th>0</th>\n",
              "      <td>0.721154</td>\n",
              "      <td>150.0</td>\n",
              "      <td>208</td>\n",
              "    </tr>\n",
              "    <tr>\n",
              "      <th>1</th>\n",
              "      <td>0.735714</td>\n",
              "      <td>103.0</td>\n",
              "      <td>140</td>\n",
              "    </tr>\n",
              "  </tbody>\n",
              "</table>\n",
              "</div>\n",
              "      <button class=\"colab-df-convert\" onclick=\"convertToInteractive('df-1a6a51d7-c326-48fe-b39b-75d6a207c862')\"\n",
              "              title=\"Convert this dataframe to an interactive table.\"\n",
              "              style=\"display:none;\">\n",
              "        \n",
              "  <svg xmlns=\"http://www.w3.org/2000/svg\" height=\"24px\"viewBox=\"0 0 24 24\"\n",
              "       width=\"24px\">\n",
              "    <path d=\"M0 0h24v24H0V0z\" fill=\"none\"/>\n",
              "    <path d=\"M18.56 5.44l.94 2.06.94-2.06 2.06-.94-2.06-.94-.94-2.06-.94 2.06-2.06.94zm-11 1L8.5 8.5l.94-2.06 2.06-.94-2.06-.94L8.5 2.5l-.94 2.06-2.06.94zm10 10l.94 2.06.94-2.06 2.06-.94-2.06-.94-.94-2.06-.94 2.06-2.06.94z\"/><path d=\"M17.41 7.96l-1.37-1.37c-.4-.4-.92-.59-1.43-.59-.52 0-1.04.2-1.43.59L10.3 9.45l-7.72 7.72c-.78.78-.78 2.05 0 2.83L4 21.41c.39.39.9.59 1.41.59.51 0 1.02-.2 1.41-.59l7.78-7.78 2.81-2.81c.8-.78.8-2.07 0-2.86zM5.41 20L4 18.59l7.72-7.72 1.47 1.35L5.41 20z\"/>\n",
              "  </svg>\n",
              "      </button>\n",
              "      \n",
              "  <style>\n",
              "    .colab-df-container {\n",
              "      display:flex;\n",
              "      flex-wrap:wrap;\n",
              "      gap: 12px;\n",
              "    }\n",
              "\n",
              "    .colab-df-convert {\n",
              "      background-color: #E8F0FE;\n",
              "      border: none;\n",
              "      border-radius: 50%;\n",
              "      cursor: pointer;\n",
              "      display: none;\n",
              "      fill: #1967D2;\n",
              "      height: 32px;\n",
              "      padding: 0 0 0 0;\n",
              "      width: 32px;\n",
              "    }\n",
              "\n",
              "    .colab-df-convert:hover {\n",
              "      background-color: #E2EBFA;\n",
              "      box-shadow: 0px 1px 2px rgba(60, 64, 67, 0.3), 0px 1px 3px 1px rgba(60, 64, 67, 0.15);\n",
              "      fill: #174EA6;\n",
              "    }\n",
              "\n",
              "    [theme=dark] .colab-df-convert {\n",
              "      background-color: #3B4455;\n",
              "      fill: #D2E3FC;\n",
              "    }\n",
              "\n",
              "    [theme=dark] .colab-df-convert:hover {\n",
              "      background-color: #434B5C;\n",
              "      box-shadow: 0px 1px 3px 1px rgba(0, 0, 0, 0.15);\n",
              "      filter: drop-shadow(0px 1px 2px rgba(0, 0, 0, 0.3));\n",
              "      fill: #FFFFFF;\n",
              "    }\n",
              "  </style>\n",
              "\n",
              "      <script>\n",
              "        const buttonEl =\n",
              "          document.querySelector('#df-1a6a51d7-c326-48fe-b39b-75d6a207c862 button.colab-df-convert');\n",
              "        buttonEl.style.display =\n",
              "          google.colab.kernel.accessAllowed ? 'block' : 'none';\n",
              "\n",
              "        async function convertToInteractive(key) {\n",
              "          const element = document.querySelector('#df-1a6a51d7-c326-48fe-b39b-75d6a207c862');\n",
              "          const dataTable =\n",
              "            await google.colab.kernel.invokeFunction('convertToInteractive',\n",
              "                                                     [key], {});\n",
              "          if (!dataTable) return;\n",
              "\n",
              "          const docLinkHtml = 'Like what you see? Visit the ' +\n",
              "            '<a target=\"_blank\" href=https://colab.research.google.com/notebooks/data_table.ipynb>data table notebook</a>'\n",
              "            + ' to learn more about interactive tables.';\n",
              "          element.innerHTML = '';\n",
              "          dataTable['output_type'] = 'display_data';\n",
              "          await google.colab.output.renderOutput(dataTable, element);\n",
              "          const docLink = document.createElement('div');\n",
              "          docLink.innerHTML = docLinkHtml;\n",
              "          element.appendChild(docLink);\n",
              "        }\n",
              "      </script>\n",
              "    </div>\n",
              "  </div>\n",
              "  "
            ]
          },
          "metadata": {},
          "execution_count": 30
        }
      ]
    },
    {
      "cell_type": "code",
      "source": [
        "p_a = df_agg['mean'].loc[1]\n",
        "p_l = df_agg['mean'].loc[0]\n",
        "\n",
        "n_a = df_agg['count'].loc[1]\n",
        "n_l = df_agg['count'].loc[0]\n",
        "\n",
        "d_mean = p_a - p_l\n",
        "d_std = np.sqrt(p_a*(1 - p_a)/n_a + p_l*(1 - p_l)/n_l)"
      ],
      "metadata": {
        "id": "V0hBkNgm9Mty"
      },
      "execution_count": 31,
      "outputs": []
    },
    {
      "cell_type": "code",
      "source": [
        "asy_mean_test(d_mean , d_std, mu_0=0, \n",
        "                   alpha=0.05, alternative='larger', margin=3)"
      ],
      "metadata": {
        "id": "qEFWxS8r8J59",
        "colab": {
          "base_uri": "https://localhost:8080/",
          "height": 357
        },
        "outputId": "106e6a07-e819-41cc-ca4e-0c7cccc2e5df"
      },
      "execution_count": 32,
      "outputs": [
        {
          "output_type": "execute_result",
          "data": {
            "text/plain": [
              "0.3820887057419452"
            ]
          },
          "metadata": {},
          "execution_count": 32
        },
        {
          "output_type": "display_data",
          "data": {
            "text/plain": [
              "<Figure size 720x360 with 1 Axes>"
            ],
            "image/png": "[encoded data removed]"
          },
          "metadata": {
            "needs_background": "light"
          }
        }
      ]
    },
    {
      "cell_type": "code",
      "source": [
        "from statsmodels.stats.proportion import proportions_ztest\n",
        "\n",
        "alpha = 0.05                                            # уровень значимости = 5%\n",
        "n_obs = df_agg['count'].loc[1], df_agg['count'].loc[0]  # размеры выборок\n",
        "m_obs = df_agg['sum'].loc[1], df_agg['sum'].loc[0]      # число успехов\n",
        "\n",
        "z_obs, p_val =  proportions_ztest(m_obs, n_obs, value=0, \n",
        "                                  alternative='larger')\n",
        "\n",
        "print(f\"Наблюдаемое значение: {z_obs:.3}\") \n",
        "print(f\"P-значение: {p_val:.3}\");"
      ],
      "metadata": {
        "id": "hqWgDjOr8KA3",
        "colab": {
          "base_uri": "https://localhost:8080/"
        },
        "outputId": "2f2690b5-bb59-4bc0-c518-517372957f94"
      },
      "execution_count": 34,
      "outputs": [
        {
          "output_type": "stream",
          "name": "stdout",
          "text": [
            "Наблюдаемое значение: 0.299\n",
            "P-значение: 0.382\n"
          ]
        }
      ]
    },
    {
      "cell_type": "markdown",
      "source": [
        "Понятное дело, что по анлогии это делается для любых средних! То есть вы можете попробовать предположить, что выборка пришла из какого-то другого распределения, понять как выглядит дисперсия и подготовить асимптотический критерий. "
      ],
      "metadata": {
        "id": "CUse6ISh_ng-"
      }
    },
    {
      "cell_type": "markdown",
      "source": [
        "> Остаётся много вопросиков про то, а как правильно спланировать эксперимент. Например, сколько надо наблюдений? \n",
        "\n",
        "# Планирование эксперимента"
      ],
      "metadata": {
        "id": "P2sCaWzMAF19"
      }
    },
    {
      "cell_type": "markdown",
      "source": [
        "Нам надо как-то увязать между собой следующие показатели: \n",
        "\n",
        "- MDE (Minimal detectable effect)\n",
        "- ошибка 1 рода\n",
        "- ошибка 2 рода \n",
        "- количество наблюдений $n_c,n_T$\n",
        "- как должны между собой соотноситься $n_c$ и $n_T$\n"
      ],
      "metadata": {
        "id": "HWbBK5aYAYAu"
      }
    },
    {
      "cell_type": "markdown",
      "source": [
        "__Способы выбрать $q$__\n",
        "\n",
        "Наш бюджет на эксперимент всегда ограничен. Мы всего можем собрать $n$ наблюдений, из которых в группу воздействия попадёт $q \\cdot n$, то есть $n_T = q \\cdot n$ и $n_c = (1 - q) \\cdot n$. Как выбрать $q$? \n"
      ],
      "metadata": {
        "id": "fu8lXISa06pn"
      }
    },
    {
      "cell_type": "markdown",
      "source": [
        "__1)__  От балды: $q = 0.5$.\n",
        "\n",
        "\n",
        "__2)__  Хочется, чтобы дисперсия была поменьше, то есть: \n",
        "\n",
        "\n",
        "$$\n",
        "Var(\\hat p_T - \\hat p_c) = \\frac{p_T \\cdot (1 - p_T)}{q \\cdot n} + \\frac{p_c \\cdot (1 - p_c)}{(1 - q) \\cdot n}  \\to \\min_q\n",
        "$$\n",
        "\n",
        "Если мы решим эту задачу, тогда у нас поулчится\n",
        "\n",
        "$$\n",
        "q = \\frac{\\sqrt{p_T \\cdot (1 - p_T)} }{\\sqrt{p_T \\cdot (1 - p_T)} + \\sqrt{p_c \\cdot (1 - p_c)} }\n",
        "$$\n",
        "\n",
        "\n",
        "Скорее всего, все революционные идеи уже сделаны. Скорее всего, наши группы в целом похожи. $MDE$ маленькое. То есть $q \\approx 0.5.$ \n",
        "\n",
        "Либо если вы верите, что ваши изменения революционные и перевернут мир, можно запустить дорогой двухшаговый эксперимент, где за первую неделю вы получите точечную оценку для $q$, а на второй неделе с выверенной пропорцией уже проверите гипотезу. \n",
        "\n",
        "__3)__ Обычно есть продукт сам по себе. Обычно для АБ-теста от этого продукта отсекают маленькую долю людей, например $1\\%$. Нужно просто понять хватает ли нам для детекции эффекта $1\\%$ или надо увеличить долю. \n",
        "\n",
        "__4)__  Выбрать $q$ так, чтобы минимизировать $\\beta$. Ниже мы подумали над этой идеей и она совпала с идеей номер 2. "
      ],
      "metadata": {
        "id": "mEwIwTb7BdDm"
      }
    },
    {
      "cell_type": "markdown",
      "source": [
        "__Ищем оптимальное $n$__\n",
        "\n",
        "- Перед началом эксперимента сами выбираем $\\alpha = \\mathbb{P}(H_A \\mid H_0)$\n",
        "- Из здравого смысла, отталкиваясь от того измение в каком знаке после запятой для нас будет существенным, мы выбираем $MDE$\n",
        "- Остаётся только $\\beta$, которая как-то связана с предыдущими двумя показателями. Её обычно минимизируют по остаточному принципу. "
      ],
      "metadata": {
        "id": "KJJDAsTvCbgW"
      }
    },
    {
      "cell_type": "markdown",
      "source": [
        "Давайте проведёмс вычисления, которые свяжут эти три показателя для ситуации, когда $q = 0.5$.\n",
        "\n",
        "Критерий для двусторонней альтернативы: \n",
        "\n",
        "$$\n",
        "\\left| \\frac{\\hat d - 0}{se(\\hat d)} \\right| > z_{1-\\frac{\\alpha}{2}} \\quad \\Rightarrow \\quad \\text{отвергаем } H_0\n",
        "$$"
      ],
      "metadata": {
        "id": "yY-TS6L9DxC0"
      }
    },
    {
      "cell_type": "markdown",
      "source": [
        "Когда мы выписали такой критерий, мы обеспечиил требуемое $\\alpha$!\n"
      ],
      "metadata": {
        "id": "-L94XrkEEVM1"
      }
    },
    {
      "cell_type": "markdown",
      "source": [
        "$$\n",
        "\\beta = \\mathbb{P}(H_0 \\mid H_a) = \\mathbb{P} \\left( \\hat d < z_{1 - \\frac{\\alpha}{2}} \\cdot se(\\hat d)  \\mid d \\ge MDE \\right) \\le \\mathbb{P} \\left( \\hat d < z_{1 - \\frac{\\alpha}{2}} \\cdot se(\\hat d)  \\mid d = MDE \\right) =  ?\n",
        "$$"
      ],
      "metadata": {
        "id": "iqutrm51EjND"
      }
    },
    {
      "cell_type": "markdown",
      "source": [
        "$$\n",
        "\\hat d \\underset{H_0}{\\overset{asy}{\\sim}} N (0, se^2(\\hat d))\n",
        "$$\n",
        "\n",
        "$$\n",
        "\\hat d \\underset{H_a}{\\overset{asy}{\\sim}} N (MDE, se^2(\\hat d))\n",
        "$$"
      ],
      "metadata": {
        "id": "pj1Aa383GUgD"
      }
    },
    {
      "cell_type": "markdown",
      "source": [
        "$$\n",
        "? = \\mathbb{P}\\left( \\frac{\\hat d - MDE}{se(\\hat d)} \\le \\frac{z_{1 - \\frac{\\alpha}{2} \\cdot se(\\hat d) - MDE} }{se (\\hat d) } \\mid d = MDE \\right)  =  \\mathbb{P}\\left( N(0,1) \\le \\frac{z_{1 - \\frac{\\alpha}{2} \\cdot se(\\hat d) - MDE} }{se (\\hat d) } \\right) = F_{N(0,1)} \\left( \\frac{z_{1 - \\frac{\\alpha}{2} \\cdot se(\\hat d) - MDE} }{se (\\hat d) } \\right) = \\beta \n",
        "$$"
      ],
      "metadata": {
        "id": "lcrhrp2_GqKV"
      }
    },
    {
      "cell_type": "markdown",
      "source": [
        "__Определение__\n",
        "\n",
        "Число $q$ для которого выполняется $F_X(X \\le q) = \\gamma$ называется квантилем уровня $\\gamma$. "
      ],
      "metadata": {
        "id": "AgDhBIZBHtUB"
      }
    },
    {
      "cell_type": "markdown",
      "source": [
        "$$\n",
        "\\frac{z_{1 - \\frac{\\alpha}{2} \\cdot se(\\hat d) - MDE} }{se (\\hat d) } = z_{\\beta}\n",
        "$$"
      ],
      "metadata": {
        "id": "nF5H8A7-H_iz"
      }
    },
    {
      "cell_type": "markdown",
      "source": [
        "$$\n",
        "\\frac{MDE}{se(\\hat d)} = z_{1 - \\frac{\\alpha}{2}} - z_{\\beta}\n",
        "$$\n",
        "\n",
        "$$\n",
        "\\frac{MDE}{se(\\hat d)} = z_{1 - \\frac{\\alpha}{2}} + z_{1 - \\beta}\n",
        "$$\n",
        "\n",
        "$$\n",
        "\\frac{MDE}{z_{1 - \\frac{\\alpha}{2}} + z_{1 - \\beta}} = se(\\hat d) \n",
        "$$\n",
        "\n",
        "$$\n",
        "\\left( \\frac{MDE}{z_{1 - \\frac{\\alpha}{2}} + z_{1 - \\beta}} \\right)^2 = Var(\\hat d) = \\frac{ \\hat p_c\\cdot (1 - \\hat p_c)}{n_c} + \\frac{ \\hat p_T \\cdot (1 - \\hat p_T)}{n_T}\n",
        "$$"
      ],
      "metadata": {
        "id": "8nTrqXugIKeb"
      }
    },
    {
      "cell_type": "markdown",
      "source": [
        "$$\n",
        "\\left( \\frac{MDE}{z_{1 - \\frac{\\alpha}{2}} + z_{1 - \\beta}} \\right)^2 = \\frac{ \\hat p_c\\cdot (1 - \\hat p_c)}{(1- q) \\cdot n} + \\frac{ \\hat p_T \\cdot (1 - \\hat p_T)}{q \\cdot n}\n",
        "$$"
      ],
      "metadata": {
        "id": "k8iYyy5sItcX"
      }
    },
    {
      "cell_type": "markdown",
      "source": [
        "Пусть $q = 0.5$"
      ],
      "metadata": {
        "id": "88BRFmZRI1J5"
      }
    },
    {
      "cell_type": "markdown",
      "source": [
        "$$\n",
        "\\left( \\frac{MDE}{z_{1 - \\frac{\\alpha}{2}} + z_{1 - \\beta}} \\right)^2 = \\frac{ \\hat p_c\\cdot (1 - \\hat p_c) + \\hat p_T \\cdot (1 - \\hat p_T)}{0.5 \\cdot n}\n",
        "$$"
      ],
      "metadata": {
        "id": "nqLjKlKXI1GZ"
      }
    },
    {
      "cell_type": "markdown",
      "source": [
        "$$\n",
        "n = \\frac{ \\hat p_c\\cdot (1 - \\hat p_c) + \\hat p_T \\cdot (1 - \\hat p_T)}{0.5 MDE^2} \\cdot (z_{1 - \\frac{\\alpha}{2}} + z_{1 - \\beta})^2\n",
        "$$"
      ],
      "metadata": {
        "id": "IABFzhsFJRXT"
      }
    },
    {
      "cell_type": "markdown",
      "source": [
        "__Упражнение:__ \n",
        "\n",
        "$f(p) = p \\cdot (1 - p) = p - p^2$\n",
        "\n",
        "$f'(p) = 1 - 2 p = 0 \\Rightarrow p = 0.5$\n",
        "\n",
        "$f''(p) = - 2 < 0 \\Rightarrow$ максимум\n",
        "\n",
        "$f(0.5) = 0.5 \\cdot (1 - 0.5) = 0.25$"
      ],
      "metadata": {
        "id": "CXJi--MfJwB_"
      }
    },
    {
      "cell_type": "markdown",
      "source": [
        "Давайте сделаем на $n$ грубую оценку. Воспользуемся тем, что $p \\cdot (1 - p) \\le 0.25 $"
      ],
      "metadata": {
        "id": "4Vo9lsJHJkne"
      }
    },
    {
      "cell_type": "markdown",
      "source": [
        "$$\n",
        "n = \\frac{ \\hat p_c\\cdot (1 - \\hat p_c) + \\hat p_T \\cdot (1 - \\hat p_T)}{0.5 MDE^2} \\cdot (z_{1 - \\frac{\\alpha}{2}} + z_{1 - \\beta})^2 \\le  \\frac{0.5}{0.5 MDE^2} \\cdot (z_{1 - \\frac{\\alpha}{2}} + z_{1 - \\beta})^2 = \\frac{(z_{1 - \\frac{\\alpha}{2}} + z_{1 - \\beta})^2}{MDE^2}\n",
        "$$"
      ],
      "metadata": {
        "id": "lqD1VjrJKSzr"
      }
    },
    {
      "cell_type": "markdown",
      "source": [
        "$$\n",
        "n =  \\frac{(z_{1 - \\frac{\\alpha}{2}} + z_{1 - \\beta})^2}{MDE^2}\n",
        "$$"
      ],
      "metadata": {
        "id": "GXdNQLVyKqzh"
      }
    },
    {
      "cell_type": "markdown",
      "source": [
        "__Упражнение:__\n",
        "\n",
        "Менеджерка Сова к аналитику Пяточку и говорит: \n",
        "\n",
        "- Хочу понять как изменятся конверсии на сайте, если мы его поменяем. \n",
        "- Какой MDE тебя устроит? \n",
        "- Ну наверное 0.001 сойдёт.\n",
        "- Какую ошибку первого и второго рода ты готова совершить? \n",
        "- Нулевые. \n",
        "- Тогда нам нужно бесконечно много наблюдений.\n",
        "\n",
        "Сова после такого ответа уходит подмумать, возвращается к Пяточку и говорит: \n",
        "\n",
        "- А какие есть вообще варианты? \n",
        "- А сейчас я нарисую тебе табличку!\n"
      ],
      "metadata": {
        "id": "a62otIOdKx3E"
      }
    },
    {
      "cell_type": "code",
      "source": [
        "def get_n(MDE, alpha, beta):\n",
        "    za = stats.norm().ppf(1 - alpha/2)\n",
        "    zb = stats.norm().ppf(1 - beta)\n",
        "    return ((za + zb)/MDE)**2"
      ],
      "metadata": {
        "id": "isnRRTvhKxI0"
      },
      "execution_count": 47,
      "outputs": []
    },
    {
      "cell_type": "code",
      "source": [
        "MDE = 0.1\n",
        "\n",
        "alphas = [0.001, 0.01, 0.02, 0.05, 0.1, 0.2]\n",
        "betas = [0.001, 0.01, 0.02, 0.05, 0.1, 0.2]\n",
        "\n",
        "Errors = [ ]\n",
        "for a in alphas:\n",
        "    cur_error = []\n",
        "    for b in betas:\n",
        "        e = get_n(MDE, a, b)#/10**6\n",
        "        cur_error.append(e)\n",
        "    Errors.append(cur_error)\n",
        "\n",
        "df_e = pd.DataFrame(Errors)\n",
        "df_e.columns = alphas\n",
        "df_e.index = betas\n",
        "df_e"
      ],
      "metadata": {
        "id": "PlzJuNh61FWi",
        "colab": {
          "base_uri": "https://localhost:8080/",
          "height": 237
        },
        "outputId": "59931681-ff23-4dc1-fc17-7f2aedfd090f"
      },
      "execution_count": 57,
      "outputs": [
        {
          "output_type": "execute_result",
          "data": {
            "text/plain": [
              "             0.001        0.010        0.020        0.050        0.100  \\\n",
              "0.001  4071.408590  3154.928033  2856.128214  2435.797928  2090.389995   \n",
              "0.010  3210.425417  2403.134108  2143.299444  1781.416440  1487.938717   \n",
              "0.020  2933.934085  2164.757772  1918.524784  1577.044136  1301.693837   \n",
              "0.050  2550.448257  1837.246935  1610.989120  1299.471001  1050.742306   \n",
              "0.100  2242.103879  1577.044136  1367.966073  1082.217382   856.384735   \n",
              "0.200  1911.249422  1301.693837  1112.422927   856.384735   656.949766   \n",
              "\n",
              "             0.200  \n",
              "0.001  1707.464681  \n",
              "0.010  1167.896817  \n",
              "0.020  1003.602827  \n",
              "0.050   784.887973  \n",
              "0.100   618.255723  \n",
              "0.200   450.786273  "
            ],
            "text/html": [
              "\n",
              "  <div id=\"df-bab86988-9d9f-4c83-9ccc-7d636034326d\">\n",
              "    <div class=\"colab-df-container\">\n",
              "      <div>\n",
              "<style scoped>\n",
              "    .dataframe tbody tr th:only-of-type {\n",
              "        vertical-align: middle;\n",
              "    }\n",
              "\n",
              "    .dataframe tbody tr th {\n",
              "        vertical-align: top;\n",
              "    }\n",
              "\n",
              "    .dataframe thead th {\n",
              "        text-align: right;\n",
              "    }\n",
              "</style>\n",
              "<table border=\"1\" class=\"dataframe\">\n",
              "  <thead>\n",
              "    <tr style=\"text-align: right;\">\n",
              "      <th></th>\n",
              "      <th>0.001</th>\n",
              "      <th>0.010</th>\n",
              "      <th>0.020</th>\n",
              "      <th>0.050</th>\n",
              "      <th>0.100</th>\n",
              "      <th>0.200</th>\n",
              "    </tr>\n",
              "  </thead>\n",
              "  <tbody>\n",
              "    <tr>\n",
              "      <th>0.001</th>\n",
              "      <td>4071.408590</td>\n",
              "      <td>3154.928033</td>\n",
              "      <td>2856.128214</td>\n",
              "      <td>2435.797928</td>\n",
              "      <td>2090.389995</td>\n",
              "      <td>1707.464681</td>\n",
              "    </tr>\n",
              "    <tr>\n",
              "      <th>0.010</th>\n",
              "      <td>3210.425417</td>\n",
              "      <td>2403.134108</td>\n",
              "      <td>2143.299444</td>\n",
              "      <td>1781.416440</td>\n",
              "      <td>1487.938717</td>\n",
              "      <td>1167.896817</td>\n",
              "    </tr>\n",
              "    <tr>\n",
              "      <th>0.020</th>\n",
              "      <td>2933.934085</td>\n",
              "      <td>2164.757772</td>\n",
              "      <td>1918.524784</td>\n",
              "      <td>1577.044136</td>\n",
              "      <td>1301.693837</td>\n",
              "      <td>1003.602827</td>\n",
              "    </tr>\n",
              "    <tr>\n",
              "      <th>0.050</th>\n",
              "      <td>2550.448257</td>\n",
              "      <td>1837.246935</td>\n",
              "      <td>1610.989120</td>\n",
              "      <td>1299.471001</td>\n",
              "      <td>1050.742306</td>\n",
              "      <td>784.887973</td>\n",
              "    </tr>\n",
              "    <tr>\n",
              "      <th>0.100</th>\n",
              "      <td>2242.103879</td>\n",
              "      <td>1577.044136</td>\n",
              "      <td>1367.966073</td>\n",
              "      <td>1082.217382</td>\n",
              "      <td>856.384735</td>\n",
              "      <td>618.255723</td>\n",
              "    </tr>\n",
              "    <tr>\n",
              "      <th>0.200</th>\n",
              "      <td>1911.249422</td>\n",
              "      <td>1301.693837</td>\n",
              "      <td>1112.422927</td>\n",
              "      <td>856.384735</td>\n",
              "      <td>656.949766</td>\n",
              "      <td>450.786273</td>\n",
              "    </tr>\n",
              "  </tbody>\n",
              "</table>\n",
              "</div>\n",
              "      <button class=\"colab-df-convert\" onclick=\"convertToInteractive('df-bab86988-9d9f-4c83-9ccc-7d636034326d')\"\n",
              "              title=\"Convert this dataframe to an interactive table.\"\n",
              "              style=\"display:none;\">\n",
              "        \n",
              "  <svg xmlns=\"http://www.w3.org/2000/svg\" height=\"24px\"viewBox=\"0 0 24 24\"\n",
              "       width=\"24px\">\n",
              "    <path d=\"M0 0h24v24H0V0z\" fill=\"none\"/>\n",
              "    <path d=\"M18.56 5.44l.94 2.06.94-2.06 2.06-.94-2.06-.94-.94-2.06-.94 2.06-2.06.94zm-11 1L8.5 8.5l.94-2.06 2.06-.94-2.06-.94L8.5 2.5l-.94 2.06-2.06.94zm10 10l.94 2.06.94-2.06 2.06-.94-2.06-.94-.94-2.06-.94 2.06-2.06.94z\"/><path d=\"M17.41 7.96l-1.37-1.37c-.4-.4-.92-.59-1.43-.59-.52 0-1.04.2-1.43.59L10.3 9.45l-7.72 7.72c-.78.78-.78 2.05 0 2.83L4 21.41c.39.39.9.59 1.41.59.51 0 1.02-.2 1.41-.59l7.78-7.78 2.81-2.81c.8-.78.8-2.07 0-2.86zM5.41 20L4 18.59l7.72-7.72 1.47 1.35L5.41 20z\"/>\n",
              "  </svg>\n",
              "      </button>\n",
              "      \n",
              "  <style>\n",
              "    .colab-df-container {\n",
              "      display:flex;\n",
              "      flex-wrap:wrap;\n",
              "      gap: 12px;\n",
              "    }\n",
              "\n",
              "    .colab-df-convert {\n",
              "      background-color: #E8F0FE;\n",
              "      border: none;\n",
              "      border-radius: 50%;\n",
              "      cursor: pointer;\n",
              "      display: none;\n",
              "      fill: #1967D2;\n",
              "      height: 32px;\n",
              "      padding: 0 0 0 0;\n",
              "      width: 32px;\n",
              "    }\n",
              "\n",
              "    .colab-df-convert:hover {\n",
              "      background-color: #E2EBFA;\n",
              "      box-shadow: 0px 1px 2px rgba(60, 64, 67, 0.3), 0px 1px 3px 1px rgba(60, 64, 67, 0.15);\n",
              "      fill: #174EA6;\n",
              "    }\n",
              "\n",
              "    [theme=dark] .colab-df-convert {\n",
              "      background-color: #3B4455;\n",
              "      fill: #D2E3FC;\n",
              "    }\n",
              "\n",
              "    [theme=dark] .colab-df-convert:hover {\n",
              "      background-color: #434B5C;\n",
              "      box-shadow: 0px 1px 3px 1px rgba(0, 0, 0, 0.15);\n",
              "      filter: drop-shadow(0px 1px 2px rgba(0, 0, 0, 0.3));\n",
              "      fill: #FFFFFF;\n",
              "    }\n",
              "  </style>\n",
              "\n",
              "      <script>\n",
              "        const buttonEl =\n",
              "          document.querySelector('#df-bab86988-9d9f-4c83-9ccc-7d636034326d button.colab-df-convert');\n",
              "        buttonEl.style.display =\n",
              "          google.colab.kernel.accessAllowed ? 'block' : 'none';\n",
              "\n",
              "        async function convertToInteractive(key) {\n",
              "          const element = document.querySelector('#df-bab86988-9d9f-4c83-9ccc-7d636034326d');\n",
              "          const dataTable =\n",
              "            await google.colab.kernel.invokeFunction('convertToInteractive',\n",
              "                                                     [key], {});\n",
              "          if (!dataTable) return;\n",
              "\n",
              "          const docLinkHtml = 'Like what you see? Visit the ' +\n",
              "            '<a target=\"_blank\" href=https://colab.research.google.com/notebooks/data_table.ipynb>data table notebook</a>'\n",
              "            + ' to learn more about interactive tables.';\n",
              "          element.innerHTML = '';\n",
              "          dataTable['output_type'] = 'display_data';\n",
              "          await google.colab.output.renderOutput(dataTable, element);\n",
              "          const docLink = document.createElement('div');\n",
              "          docLink.innerHTML = docLinkHtml;\n",
              "          element.appendChild(docLink);\n",
              "        }\n",
              "      </script>\n",
              "    </div>\n",
              "  </div>\n",
              "  "
            ]
          },
          "metadata": {},
          "execution_count": 57
        }
      ]
    },
    {
      "cell_type": "markdown",
      "source": [
        "Скорее всего, все революционные идеи уже сделаны. Скорее всего, эффект от изменений на сайте будет не очень большим. "
      ],
      "metadata": {
        "id": "tzhnmH2mNztc"
      }
    },
    {
      "cell_type": "markdown",
      "source": [
        "## Задание:\n",
        "\n",
        "__а)__ понять как будут выглядеть все аналогичные формулы для гипотезы о равенстве средних\n",
        "\n",
        "__б)__ понять как будут выгдять формулы для ситуации когда $q\\ne 0.5$\n",
        "\n",
        "__в)__ понять как будут выглядять формулы, когда пользователей у нас очень много и мы хотим решить какой процент от них отрезать для теста, а всё отсальное у нас это контроль \n",
        "\n"
      ],
      "metadata": {
        "id": "sAgIQLzIOXql"
      }
    },
    {
      "cell_type": "markdown",
      "source": [
        "# Рандомные мысли про идею 4\n",
        "\n",
        "$$\n",
        "\\beta  = F_{N(0,1)} \\left(z_{1 - \\frac{\\alpha}{2}} -  \\frac{MDE}{ \\sqrt{ \\frac{p_T \\cdot (1 - p_T)}{q \\cdot n} + \\frac{p_c \\cdot (1 - p_c)}{(1 - q) \\cdot n} }  } \\right) \\to \\min_{q}\n",
        "$$"
      ],
      "metadata": {
        "id": "Il6oDuhuQwQF"
      }
    },
    {
      "cell_type": "markdown",
      "source": [
        "$$\n",
        "\\beta  = F_{N(0,1)} \\left(z_{1 - \\frac{\\alpha}{2}} -  \\frac{MDE}{ \\sqrt{ \\frac{0.25}{q \\cdot n} + \\frac{0.25}{(1 - q) \\cdot n} }  } \\right) \\to \\min_{q}\n",
        "$$"
      ],
      "metadata": {
        "id": "MdkHSWXWRTOX"
      }
    },
    {
      "cell_type": "markdown",
      "source": [
        "Так как $F(t)$ это функция распределения, она монотонно возрастает. Получается, что для минимизации мы должны сделать её аргумент по $q$ как можно меньше. \n",
        "\n",
        "\n",
        "$$\n",
        "z_{1 - \\frac{\\alpha}{2}} -  \\frac{MDE}{ \\sqrt{ \\frac{p_T \\cdot (1 - p_T)}{q \\cdot n} + \\frac{p_c \\cdot (1 - p_c)}{(1 - q) \\cdot n} }  } \\to \\min_{q}\n",
        "$$\n",
        "\n",
        "\n",
        "$$\n",
        "\\frac{MDE}{ \\sqrt{ \\frac{p_T \\cdot (1 - p_T)}{q \\cdot n} + \\frac{p_c \\cdot (1 - p_c)}{(1 - q) \\cdot n}}} \\to \\max_{q}\n",
        "$$\n",
        "\n",
        "$$\n",
        "\\frac{p_T \\cdot (1 - p_T)}{q \\cdot n} + \\frac{p_c \\cdot (1 - p_c)}{(1 - q) \\cdot n} \\to \\min_{q}\n",
        "$$\n",
        "\n",
        "$$\n",
        "Var(\\hat p_T - \\hat p_c) \\to \\min_{q}\n",
        "$$"
      ],
      "metadata": {
        "id": "c1goMAB9ST_w"
      }
    },
    {
      "cell_type": "markdown",
      "source": [
        "$\\beta(q)$ - ?"
      ],
      "metadata": {
        "id": "rsKQ_PEERawb"
      }
    },
    {
      "cell_type": "code",
      "source": [
        "alpha = 0.05\n",
        "MDE = 0.1 \n",
        "n = 1000\n",
        "\n",
        "pt = 0.1 \n",
        "pc = 0.5\n",
        "\n",
        "def beta(q):\n",
        "    qq = np.sqrt(pt*(1-pt)/(q*n) + pc*(1-pc)/((1-q)*n))\n",
        "    h = stats.norm().ppf(1 - alpha/2) - MDE/qq\n",
        "    return h\n",
        "\n",
        "q = np.linspace(0, 1, 500)\n",
        "plt.plot(q, beta(q));"
      ],
      "metadata": {
        "colab": {
          "base_uri": "https://localhost:8080/",
          "height": 302
        },
        "id": "f_ciQqebRfl4",
        "outputId": "da9360a3-4ddc-46c0-e4fb-0612ae78d24d"
      },
      "execution_count": 60,
      "outputs": [
        {
          "output_type": "stream",
          "name": "stderr",
          "text": [
            "/usr/local/lib/python3.7/dist-packages/ipykernel_launcher.py:9: RuntimeWarning: divide by zero encountered in true_divide\n",
            "  if __name__ == '__main__':\n"
          ]
        },
        {
          "output_type": "display_data",
          "data": {
            "text/plain": [
              "<Figure size 432x288 with 1 Axes>"
            ],
            "image/png": "[encoded data removed]"
          },
          "metadata": {
            "needs_background": "light"
          }
        }
      ]
    },
    {
      "cell_type": "code",
      "source": [
        ""
      ],
      "metadata": {
        "id": "mh8chHQmMv80"
      },
      "execution_count": null,
      "outputs": []
    }
  ]
}